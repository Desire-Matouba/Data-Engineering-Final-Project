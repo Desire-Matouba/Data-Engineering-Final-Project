{
 "cells": [
  {
   "cell_type": "code",
   "execution_count": 1,
   "metadata": {},
   "outputs": [
    {
     "data": {
      "text/html": [
       "\n",
       "        <div>\n",
       "            <p><b>SparkContext</b></p>\n",
       "\n",
       "            <p><a href=\"http://ip-172-31-85-87.ec2.internal:4040\">Spark UI</a></p>\n",
       "\n",
       "            <dl>\n",
       "              <dt>Version</dt>\n",
       "                <dd><code>v2.4.8-amzn-0</code></dd>\n",
       "              <dt>Master</dt>\n",
       "                <dd><code>yarn</code></dd>\n",
       "              <dt>AppName</dt>\n",
       "                <dd><code>PySparkShell</code></dd>\n",
       "            </dl>\n",
       "        </div>\n",
       "        "
      ],
      "text/plain": [
       "<SparkContext master=yarn appName=PySparkShell>"
      ]
     },
     "execution_count": 1,
     "metadata": {},
     "output_type": "execute_result"
    }
   ],
   "source": [
    "sc"
   ]
  },
  {
   "cell_type": "code",
   "execution_count": 2,
   "metadata": {},
   "outputs": [],
   "source": [
    "#pip install sklearn"
   ]
  },
  {
   "cell_type": "code",
   "execution_count": 3,
   "metadata": {},
   "outputs": [],
   "source": [
    "#pip install seaborn"
   ]
  },
  {
   "cell_type": "code",
   "execution_count": 4,
   "metadata": {},
   "outputs": [],
   "source": [
    "from pyspark.sql.types import *\n",
    "from pyspark.sql.functions import regexp_extract\n",
    "from pyspark.ml.evaluation import RegressionEvaluator\n",
    "from pyspark.ml.recommendation import ALS\n",
    "from pyspark.sql import Row"
   ]
  },
  {
   "cell_type": "code",
   "execution_count": 5,
   "metadata": {},
   "outputs": [],
   "source": [
    "from sklearn.metrics import mean_squared_error\n",
    "from sklearn.metrics.pairwise import pairwise_distances\n",
    "from sklearn.model_selection import train_test_split\n",
    "from sklearn.metrics import mean_absolute_error"
   ]
  },
  {
   "cell_type": "code",
   "execution_count": 6,
   "metadata": {},
   "outputs": [],
   "source": [
    "import numpy as np\n",
    "import math\n",
    "import pandas as pd\n",
    "import matplotlib.pyplot as plt\n",
    "import seaborn as sns\n",
    "%matplotlib inline\n",
    "import scipy.sparse as sp\n",
    "from scipy.sparse.linalg import svds"
   ]
  },
  {
   "cell_type": "markdown",
   "metadata": {
    "colab_type": "text",
    "id": "UZfsj7olDXRF"
   },
   "source": [
    "## Problem 1: Collaborative Filtering Approach"
   ]
  },
  {
   "cell_type": "markdown",
   "metadata": {},
   "source": [
    "#### Data Loading Entire Process"
   ]
  },
  {
   "cell_type": "code",
   "execution_count": 7,
   "metadata": {},
   "outputs": [],
   "source": [
    "dbfs_dir = 's3://dsci6007bucket/Netflix/'\n",
    "training = dbfs_dir + '/TrainingRatings.txt'\n",
    "test = dbfs_dir + '/TestingRatings.txt'\n",
    "movie = dbfs_dir + '/movie_titles.txt'"
   ]
  },
  {
   "cell_type": "code",
   "execution_count": 8,
   "metadata": {
    "colab": {},
    "colab_type": "code",
    "id": "i54z4LitDXON"
   },
   "outputs": [],
   "source": [
    "trainingstructure = StructType([StructField('MovieID', IntegerType()),StructField('UniqueID', IntegerType()),StructField('Ratings',DoubleType())])\n",
    "teststructure = StructType([StructField('MovieID', IntegerType()),StructField('UniqueID', IntegerType()),StructField('Ratings',DoubleType())])\n",
    "moviestructure = StructType([StructField('MovieID', IntegerType()),StructField('ReleaseYear', IntegerType()),StructField('Title', StringType())])"
   ]
  },
  {
   "cell_type": "code",
   "execution_count": 9,
   "metadata": {
    "colab": {},
    "colab_type": "code",
    "id": "Pwh4ZZtcDXOV"
   },
   "outputs": [],
   "source": [
    "trainingfile = sc.textFile(training)\n",
    "testfile = sc.textFile(test)\n",
    "moviefile = sc.textFile(movie)"
   ]
  },
  {
   "cell_type": "code",
   "execution_count": 10,
   "metadata": {
    "colab": {},
    "colab_type": "code",
    "id": "PpyUpCBYDXOn",
    "outputId": "85707172-23c2-464c-bc74-5ac80096b24f"
   },
   "outputs": [],
   "source": [
    "trainingdata = sqlContext.read.format('txt').options(inferSchema = True).schema(trainingstructure).csv(training)\n",
    "testdata = sqlContext.read.format('txt').options(inferSchema = True).schema(teststructure).csv(test)\n",
    "moviedata = sqlContext.read.format('txt').options(inferSchema = True).schema(moviestructure).csv(movie)"
   ]
  },
  {
   "cell_type": "code",
   "execution_count": 11,
   "metadata": {},
   "outputs": [
    {
     "name": "stdout",
     "output_type": "stream",
     "text": [
      "DataFrame[MovieID: int, UniqueID: int, Ratings: double]\n",
      "DataFrame[MovieID: int, UniqueID: int, Ratings: double]\n",
      "DataFrame[MovieID: int, ReleaseYear: int, Title: string]\n"
     ]
    }
   ],
   "source": [
    "print(trainingdata.cache())\n",
    "print(testdata.cache())\n",
    "print(moviedata.cache())"
   ]
  },
  {
   "cell_type": "code",
   "execution_count": 12,
   "metadata": {},
   "outputs": [],
   "source": [
    "assert trainingdata.is_cached\n",
    "assert testdata.is_cached\n",
    "assert moviedata.is_cached"
   ]
  },
  {
   "cell_type": "code",
   "execution_count": 13,
   "metadata": {
    "colab": {},
    "colab_type": "code",
    "id": "J-0p0PcSDXPT"
   },
   "outputs": [
    {
     "name": "stderr",
     "output_type": "stream",
     "text": [
      "                                                                                \r"
     ]
    },
    {
     "name": "stdout",
     "output_type": "stream",
     "text": [
      "   MovieID  UniqueID  Ratings\n",
      "0        8   1744889      1.0\n",
      "1        8   1395430      2.0\n",
      "2        8   1205593      4.0\n",
      "3        8   1488844      4.0\n",
      "4        8   1447354      1.0\n"
     ]
    }
   ],
   "source": [
    "trainingdf = trainingdata.toPandas()\n",
    "print(trainingdf.head())"
   ]
  },
  {
   "cell_type": "code",
   "execution_count": 14,
   "metadata": {},
   "outputs": [
    {
     "name": "stdout",
     "output_type": "stream",
     "text": [
      "   MovieID  UniqueID  Ratings\n",
      "0        8    573364      1.0\n",
      "1        8   2149668      3.0\n",
      "2        8   1089184      3.0\n",
      "3        8   2465894      3.0\n",
      "4        8    534508      1.0\n"
     ]
    }
   ],
   "source": [
    "testdf = testdata.toPandas()\n",
    "print(testdf.head())"
   ]
  },
  {
   "cell_type": "code",
   "execution_count": 15,
   "metadata": {
    "colab": {},
    "colab_type": "code",
    "id": "KZE7a2dPDXRH"
   },
   "outputs": [
    {
     "name": "stderr",
     "output_type": "stream",
     "text": [
      "                                                                                \r"
     ]
    }
   ],
   "source": [
    "train, testing= trainingdata.randomSplit([0.75, 0.25])\n",
    "als = ALS(maxIter=5, regParam=0.01, userCol=\"UniqueID\", itemCol=\"MovieID\", ratingCol=\"Ratings\",coldStartStrategy=\"drop\")\n",
    "model = als.fit(train)"
   ]
  },
  {
   "cell_type": "markdown",
   "metadata": {},
   "source": [
    "#### RMSE Comparison of 3 Ranks"
   ]
  },
  {
   "cell_type": "code",
   "execution_count": 16,
   "metadata": {},
   "outputs": [
    {
     "name": "stdout",
     "output_type": "stream",
     "text": [
      "0\n"
     ]
    },
    {
     "name": "stderr",
     "output_type": "stream",
     "text": [
      "                                                                                \r"
     ]
    },
    {
     "name": "stdout",
     "output_type": "stream",
     "text": [
      "The Root Mean Square Error is 0.8648067575422841\n"
     ]
    },
    {
     "name": "stderr",
     "output_type": "stream",
     "text": [
      "                                                                                \r"
     ]
    },
    {
     "name": "stdout",
     "output_type": "stream",
     "text": [
      "+-------+--------+-------+----------+\n",
      "|MovieID|UniqueID|Ratings|prediction|\n",
      "+-------+--------+-------+----------+\n",
      "|     28|  446160|    3.0| 4.0298233|\n",
      "|     28| 1629521|    3.0|  2.837424|\n",
      "|     28| 2250628|    2.0|  3.257722|\n",
      "|    111|  675056|    3.0| 3.2367122|\n",
      "|    111| 1497891|    2.0|  2.368916|\n",
      "|    122|   15846|    4.0| 3.1624823|\n",
      "|    156|  279120|    3.0| 2.9683099|\n",
      "|    305| 1552084|    5.0| 4.1221414|\n",
      "|    359|   15846|    5.0|  4.079527|\n",
      "|    361|  128389|    2.0| 3.8315132|\n",
      "|    442|  279120|    3.0| 3.5625172|\n",
      "|    442| 1434507|    5.0|  5.007493|\n",
      "|    442| 2250628|    3.0| 3.2701845|\n",
      "|    442| 2311863|    4.0|  3.798782|\n",
      "|    443|  637596|    3.0| 3.4835799|\n",
      "|    443|  973051|    5.0| 4.6220527|\n",
      "|    443| 1189060|    5.0| 3.7346563|\n",
      "|    443| 1497891|    4.0| 3.5812035|\n",
      "|    443| 2531111|    5.0| 3.8557158|\n",
      "|    452|  637596|    3.0|  2.806849|\n",
      "+-------+--------+-------+----------+\n",
      "only showing top 20 rows\n",
      "\n",
      "1\n"
     ]
    },
    {
     "name": "stderr",
     "output_type": "stream",
     "text": [
      "                                                                                \r"
     ]
    },
    {
     "name": "stdout",
     "output_type": "stream",
     "text": [
      "The Root Mean Square Error is 0.8577371588780843\n"
     ]
    },
    {
     "name": "stderr",
     "output_type": "stream",
     "text": [
      "                                                                                \r"
     ]
    },
    {
     "name": "stdout",
     "output_type": "stream",
     "text": [
      "+-------+--------+-------+----------+\n",
      "|MovieID|UniqueID|Ratings|prediction|\n",
      "+-------+--------+-------+----------+\n",
      "|     28|  446160|    3.0|  3.516647|\n",
      "|     28| 1629521|    3.0| 3.0581145|\n",
      "|     28| 2250628|    2.0| 3.4961662|\n",
      "|    111|  675056|    3.0| 3.5252223|\n",
      "|    111| 1497891|    2.0|  2.107324|\n",
      "|    122|   15846|    4.0| 3.4785147|\n",
      "|    156|  279120|    3.0| 3.0542338|\n",
      "|    305| 1552084|    5.0|  4.062698|\n",
      "|    359|   15846|    5.0| 3.2768033|\n",
      "|    361|  128389|    2.0| 3.6015518|\n",
      "|    442|  279120|    3.0| 3.5616462|\n",
      "|    442| 1434507|    5.0| 5.1433578|\n",
      "|    442| 2250628|    3.0| 3.0847418|\n",
      "|    442| 2311863|    4.0|    3.9226|\n",
      "|    443|  637596|    3.0| 3.9304638|\n",
      "|    443|  973051|    5.0|  4.726842|\n",
      "|    443| 1189060|    5.0| 3.7877574|\n",
      "|    443| 1497891|    4.0| 3.3820739|\n",
      "|    443| 2531111|    5.0|  3.888372|\n",
      "|    452|  637596|    3.0|  3.132868|\n",
      "+-------+--------+-------+----------+\n",
      "only showing top 20 rows\n",
      "\n",
      "2\n"
     ]
    },
    {
     "name": "stderr",
     "output_type": "stream",
     "text": [
      "                                                                                \r"
     ]
    },
    {
     "name": "stdout",
     "output_type": "stream",
     "text": [
      "The Root Mean Square Error is 0.8716361185269648\n"
     ]
    },
    {
     "name": "stderr",
     "output_type": "stream",
     "text": [
      "                                                                                \r"
     ]
    },
    {
     "name": "stdout",
     "output_type": "stream",
     "text": [
      "+-------+--------+-------+----------+\n",
      "|MovieID|UniqueID|Ratings|prediction|\n",
      "+-------+--------+-------+----------+\n",
      "|     28|  446160|    3.0|  3.632871|\n",
      "|     28| 1629521|    3.0| 2.6459694|\n",
      "|     28| 2250628|    2.0|  3.273481|\n",
      "|    111|  675056|    3.0| 3.5345328|\n",
      "|    111| 1497891|    2.0| 2.1757822|\n",
      "|    122|   15846|    4.0|  3.069762|\n",
      "|    156|  279120|    3.0| 2.8434906|\n",
      "|    305| 1552084|    5.0|  4.236683|\n",
      "|    359|   15846|    5.0| 3.5888903|\n",
      "|    361|  128389|    2.0| 3.7081928|\n",
      "|    442|  279120|    3.0| 3.7547154|\n",
      "|    442| 1434507|    5.0| 5.0243587|\n",
      "|    442| 2250628|    3.0|  3.063021|\n",
      "|    442| 2311863|    4.0| 3.8958054|\n",
      "|    443|  637596|    3.0| 4.1032968|\n",
      "|    443|  973051|    5.0| 4.8048162|\n",
      "|    443| 1189060|    5.0|  3.874553|\n",
      "|    443| 1497891|    4.0|   4.00542|\n",
      "|    443| 2531111|    5.0|  4.032094|\n",
      "|    452|  637596|    3.0| 3.7973113|\n",
      "+-------+--------+-------+----------+\n",
      "only showing top 20 rows\n",
      "\n"
     ]
    }
   ],
   "source": [
    "rankrange = [4, 8, 12]\n",
    "for i in range(len(rankrange)):\n",
    "    print(i)\n",
    "    als = ALS(maxIter = 10, rank = rankrange[i], regParam = 0.01, userCol=\"UniqueID\", \n",
    "    itemCol = \"MovieID\", ratingCol = \"Ratings\",coldStartStrategy=\"drop\")\n",
    "    model = als.fit(train)\n",
    "    forecast = model.transform(testing)\n",
    "    confirm = RegressionEvaluator(metricName=\"rmse\", labelCol=\"Ratings\",predictionCol=\"prediction\")\n",
    "    rmse = confirm.evaluate(forecast)\n",
    "    print(\"The Root Mean Square Error is\", str(rmse))\n",
    "    forecast.show()"
   ]
  },
  {
   "cell_type": "markdown",
   "metadata": {},
   "source": [
    "#### Result:\n",
    "0, 1, 2 correspond to ranks 4, 8, and 12 respectively. We can see that Rank 8 is the best model because it has the lowest RMSE of all the 3 ranks. Rank 8 RMSE is about 0.857."
   ]
  },
  {
   "cell_type": "markdown",
   "metadata": {},
   "source": [
    "#### Model Prediction and Evaluation on RMSE"
   ]
  },
  {
   "cell_type": "code",
   "execution_count": 17,
   "metadata": {},
   "outputs": [
    {
     "name": "stderr",
     "output_type": "stream",
     "text": [
      "[Stage 472:==============================================>      (176 + 4) / 200]"
     ]
    },
    {
     "name": "stdout",
     "output_type": "stream",
     "text": [
      "The Root Mean Square Error on the test set is 0.8716361185269645\n"
     ]
    },
    {
     "name": "stderr",
     "output_type": "stream",
     "text": [
      "                                                                                \r"
     ]
    }
   ],
   "source": [
    "forecast = model.transform(testing)\n",
    "confirm = RegressionEvaluator(metricName=\"rmse\", labelCol=\"Ratings\",predictionCol=\"prediction\")\n",
    "rmse = confirm.evaluate(forecast)\n",
    "print(\"The Root Mean Square Error on the test set is\", str(rmse))"
   ]
  },
  {
   "cell_type": "code",
   "execution_count": null,
   "metadata": {},
   "outputs": [],
   "source": []
  },
  {
   "cell_type": "markdown",
   "metadata": {
    "colab_type": "text",
    "id": "aV4RxOenDXRf"
   },
   "source": [
    "## Problem 2: Analyzing the Netflix Data"
   ]
  },
  {
   "cell_type": "markdown",
   "metadata": {},
   "source": [
    "#### Distinct items and how many distinct users present in the test set"
   ]
  },
  {
   "cell_type": "code",
   "execution_count": 18,
   "metadata": {
    "colab": {},
    "colab_type": "code",
    "id": "zXUsrCymDXRk",
    "outputId": "660d0d84-4d79-4386-d801-8cda66a34098"
   },
   "outputs": [
    {
     "data": {
      "text/plain": [
       "27555"
      ]
     },
     "execution_count": 18,
     "metadata": {},
     "output_type": "execute_result"
    }
   ],
   "source": [
    "len(testdf['UniqueID'].unique())"
   ]
  },
  {
   "cell_type": "code",
   "execution_count": 19,
   "metadata": {
    "colab": {},
    "colab_type": "code",
    "id": "vH8HvdzWDXRo",
    "outputId": "c9a4d741-2b7a-46c3-dc50-091d1ca75308"
   },
   "outputs": [
    {
     "data": {
      "text/plain": [
       "1701"
      ]
     },
     "execution_count": 19,
     "metadata": {},
     "output_type": "execute_result"
    }
   ],
   "source": [
    "len(testdf['MovieID'].unique())"
   ]
  },
  {
   "cell_type": "markdown",
   "metadata": {},
   "source": [
    "#### movie_for_user rating process"
   ]
  },
  {
   "cell_type": "code",
   "execution_count": 20,
   "metadata": {
    "colab": {},
    "colab_type": "code",
    "id": "b6tSuF0qDXRh"
   },
   "outputs": [],
   "source": [
    "def get_the_mean_value(user):\n",
    "    total = 0\n",
    "    count = 0\n",
    "    for y in range(len(user)):\n",
    "        if(user[y]==0):\n",
    "            total = total + 0\n",
    "        else:\n",
    "            total = user[y] +total\n",
    "            count = 1 + count\n",
    "    average = total/count\n",
    "    return average"
   ]
  },
  {
   "cell_type": "code",
   "execution_count": null,
   "metadata": {},
   "outputs": [],
   "source": []
  },
  {
   "cell_type": "code",
   "execution_count": 21,
   "metadata": {
    "colab": {},
    "colab_type": "code",
    "id": "2OruO2gHDXRs",
    "outputId": "0adfdb7e-2ab0-438f-86c9-949600c6ecc9"
   },
   "outputs": [
    {
     "data": {
      "text/html": [
       "<div>\n",
       "<style scoped>\n",
       "    .dataframe tbody tr th:only-of-type {\n",
       "        vertical-align: middle;\n",
       "    }\n",
       "\n",
       "    .dataframe tbody tr th {\n",
       "        vertical-align: top;\n",
       "    }\n",
       "\n",
       "    .dataframe thead th {\n",
       "        text-align: right;\n",
       "    }\n",
       "</style>\n",
       "<table border=\"1\" class=\"dataframe\">\n",
       "  <thead>\n",
       "    <tr style=\"text-align: right;\">\n",
       "      <th>MovieID</th>\n",
       "      <th>8</th>\n",
       "      <th>28</th>\n",
       "      <th>43</th>\n",
       "      <th>48</th>\n",
       "      <th>61</th>\n",
       "      <th>64</th>\n",
       "      <th>66</th>\n",
       "      <th>92</th>\n",
       "      <th>96</th>\n",
       "      <th>111</th>\n",
       "      <th>...</th>\n",
       "      <th>17654</th>\n",
       "      <th>17660</th>\n",
       "      <th>17689</th>\n",
       "      <th>17693</th>\n",
       "      <th>17706</th>\n",
       "      <th>17725</th>\n",
       "      <th>17728</th>\n",
       "      <th>17734</th>\n",
       "      <th>17741</th>\n",
       "      <th>17742</th>\n",
       "    </tr>\n",
       "    <tr>\n",
       "      <th>UniqueID</th>\n",
       "      <th></th>\n",
       "      <th></th>\n",
       "      <th></th>\n",
       "      <th></th>\n",
       "      <th></th>\n",
       "      <th></th>\n",
       "      <th></th>\n",
       "      <th></th>\n",
       "      <th></th>\n",
       "      <th></th>\n",
       "      <th></th>\n",
       "      <th></th>\n",
       "      <th></th>\n",
       "      <th></th>\n",
       "      <th></th>\n",
       "      <th></th>\n",
       "      <th></th>\n",
       "      <th></th>\n",
       "      <th></th>\n",
       "      <th></th>\n",
       "      <th></th>\n",
       "    </tr>\n",
       "  </thead>\n",
       "  <tbody>\n",
       "    <tr>\n",
       "      <th>7</th>\n",
       "      <td>5.0</td>\n",
       "      <td>4.0</td>\n",
       "      <td>NaN</td>\n",
       "      <td>NaN</td>\n",
       "      <td>NaN</td>\n",
       "      <td>NaN</td>\n",
       "      <td>NaN</td>\n",
       "      <td>NaN</td>\n",
       "      <td>NaN</td>\n",
       "      <td>NaN</td>\n",
       "      <td>...</td>\n",
       "      <td>NaN</td>\n",
       "      <td>NaN</td>\n",
       "      <td>NaN</td>\n",
       "      <td>NaN</td>\n",
       "      <td>NaN</td>\n",
       "      <td>NaN</td>\n",
       "      <td>NaN</td>\n",
       "      <td>NaN</td>\n",
       "      <td>NaN</td>\n",
       "      <td>NaN</td>\n",
       "    </tr>\n",
       "    <tr>\n",
       "      <th>79</th>\n",
       "      <td>NaN</td>\n",
       "      <td>NaN</td>\n",
       "      <td>NaN</td>\n",
       "      <td>NaN</td>\n",
       "      <td>NaN</td>\n",
       "      <td>NaN</td>\n",
       "      <td>NaN</td>\n",
       "      <td>NaN</td>\n",
       "      <td>NaN</td>\n",
       "      <td>NaN</td>\n",
       "      <td>...</td>\n",
       "      <td>NaN</td>\n",
       "      <td>NaN</td>\n",
       "      <td>NaN</td>\n",
       "      <td>NaN</td>\n",
       "      <td>NaN</td>\n",
       "      <td>NaN</td>\n",
       "      <td>NaN</td>\n",
       "      <td>NaN</td>\n",
       "      <td>NaN</td>\n",
       "      <td>NaN</td>\n",
       "    </tr>\n",
       "    <tr>\n",
       "      <th>199</th>\n",
       "      <td>NaN</td>\n",
       "      <td>NaN</td>\n",
       "      <td>NaN</td>\n",
       "      <td>NaN</td>\n",
       "      <td>NaN</td>\n",
       "      <td>NaN</td>\n",
       "      <td>NaN</td>\n",
       "      <td>NaN</td>\n",
       "      <td>NaN</td>\n",
       "      <td>4.0</td>\n",
       "      <td>...</td>\n",
       "      <td>NaN</td>\n",
       "      <td>NaN</td>\n",
       "      <td>NaN</td>\n",
       "      <td>NaN</td>\n",
       "      <td>NaN</td>\n",
       "      <td>NaN</td>\n",
       "      <td>NaN</td>\n",
       "      <td>NaN</td>\n",
       "      <td>NaN</td>\n",
       "      <td>NaN</td>\n",
       "    </tr>\n",
       "    <tr>\n",
       "      <th>481</th>\n",
       "      <td>NaN</td>\n",
       "      <td>NaN</td>\n",
       "      <td>NaN</td>\n",
       "      <td>NaN</td>\n",
       "      <td>NaN</td>\n",
       "      <td>NaN</td>\n",
       "      <td>NaN</td>\n",
       "      <td>NaN</td>\n",
       "      <td>NaN</td>\n",
       "      <td>5.0</td>\n",
       "      <td>...</td>\n",
       "      <td>NaN</td>\n",
       "      <td>NaN</td>\n",
       "      <td>NaN</td>\n",
       "      <td>NaN</td>\n",
       "      <td>NaN</td>\n",
       "      <td>NaN</td>\n",
       "      <td>NaN</td>\n",
       "      <td>NaN</td>\n",
       "      <td>NaN</td>\n",
       "      <td>NaN</td>\n",
       "    </tr>\n",
       "    <tr>\n",
       "      <th>769</th>\n",
       "      <td>NaN</td>\n",
       "      <td>NaN</td>\n",
       "      <td>NaN</td>\n",
       "      <td>NaN</td>\n",
       "      <td>NaN</td>\n",
       "      <td>NaN</td>\n",
       "      <td>NaN</td>\n",
       "      <td>NaN</td>\n",
       "      <td>NaN</td>\n",
       "      <td>NaN</td>\n",
       "      <td>...</td>\n",
       "      <td>NaN</td>\n",
       "      <td>NaN</td>\n",
       "      <td>NaN</td>\n",
       "      <td>NaN</td>\n",
       "      <td>NaN</td>\n",
       "      <td>NaN</td>\n",
       "      <td>NaN</td>\n",
       "      <td>NaN</td>\n",
       "      <td>NaN</td>\n",
       "      <td>NaN</td>\n",
       "    </tr>\n",
       "  </tbody>\n",
       "</table>\n",
       "<p>5 rows × 1821 columns</p>\n",
       "</div>"
      ],
      "text/plain": [
       "MovieID   8      28     43     48     61     64     66     92     96     \\\n",
       "UniqueID                                                                  \n",
       "7           5.0    4.0    NaN    NaN    NaN    NaN    NaN    NaN    NaN   \n",
       "79          NaN    NaN    NaN    NaN    NaN    NaN    NaN    NaN    NaN   \n",
       "199         NaN    NaN    NaN    NaN    NaN    NaN    NaN    NaN    NaN   \n",
       "481         NaN    NaN    NaN    NaN    NaN    NaN    NaN    NaN    NaN   \n",
       "769         NaN    NaN    NaN    NaN    NaN    NaN    NaN    NaN    NaN   \n",
       "\n",
       "MovieID   111    ...  17654  17660  17689  17693  17706  17725  17728  17734  \\\n",
       "UniqueID         ...                                                           \n",
       "7           NaN  ...    NaN    NaN    NaN    NaN    NaN    NaN    NaN    NaN   \n",
       "79          NaN  ...    NaN    NaN    NaN    NaN    NaN    NaN    NaN    NaN   \n",
       "199         4.0  ...    NaN    NaN    NaN    NaN    NaN    NaN    NaN    NaN   \n",
       "481         5.0  ...    NaN    NaN    NaN    NaN    NaN    NaN    NaN    NaN   \n",
       "769         NaN  ...    NaN    NaN    NaN    NaN    NaN    NaN    NaN    NaN   \n",
       "\n",
       "MovieID   17741  17742  \n",
       "UniqueID                \n",
       "7           NaN    NaN  \n",
       "79          NaN    NaN  \n",
       "199         NaN    NaN  \n",
       "481         NaN    NaN  \n",
       "769         NaN    NaN  \n",
       "\n",
       "[5 rows x 1821 columns]"
      ]
     },
     "execution_count": 21,
     "metadata": {},
     "output_type": "execute_result"
    }
   ],
   "source": [
    "movie_for_user = trainingdf.pivot_table(index='UniqueID', columns='MovieID', values='Ratings')\n",
    "movie_for_user.head()"
   ]
  },
  {
   "cell_type": "code",
   "execution_count": 22,
   "metadata": {
    "colab": {},
    "colab_type": "code",
    "id": "QGLOFqDnDXR_",
    "outputId": "33ec37a8-8791-470d-b5c8-68972928b94f"
   },
   "outputs": [
    {
     "data": {
      "text/html": [
       "<div>\n",
       "<style scoped>\n",
       "    .dataframe tbody tr th:only-of-type {\n",
       "        vertical-align: middle;\n",
       "    }\n",
       "\n",
       "    .dataframe tbody tr th {\n",
       "        vertical-align: top;\n",
       "    }\n",
       "\n",
       "    .dataframe thead th {\n",
       "        text-align: right;\n",
       "    }\n",
       "</style>\n",
       "<table border=\"1\" class=\"dataframe\">\n",
       "  <thead>\n",
       "    <tr style=\"text-align: right;\">\n",
       "      <th>MovieID</th>\n",
       "      <th>8</th>\n",
       "      <th>28</th>\n",
       "      <th>43</th>\n",
       "      <th>48</th>\n",
       "      <th>61</th>\n",
       "      <th>64</th>\n",
       "      <th>66</th>\n",
       "      <th>92</th>\n",
       "      <th>96</th>\n",
       "      <th>111</th>\n",
       "      <th>...</th>\n",
       "      <th>17654</th>\n",
       "      <th>17660</th>\n",
       "      <th>17689</th>\n",
       "      <th>17693</th>\n",
       "      <th>17706</th>\n",
       "      <th>17725</th>\n",
       "      <th>17728</th>\n",
       "      <th>17734</th>\n",
       "      <th>17741</th>\n",
       "      <th>17742</th>\n",
       "    </tr>\n",
       "    <tr>\n",
       "      <th>UniqueID</th>\n",
       "      <th></th>\n",
       "      <th></th>\n",
       "      <th></th>\n",
       "      <th></th>\n",
       "      <th></th>\n",
       "      <th></th>\n",
       "      <th></th>\n",
       "      <th></th>\n",
       "      <th></th>\n",
       "      <th></th>\n",
       "      <th></th>\n",
       "      <th></th>\n",
       "      <th></th>\n",
       "      <th></th>\n",
       "      <th></th>\n",
       "      <th></th>\n",
       "      <th></th>\n",
       "      <th></th>\n",
       "      <th></th>\n",
       "      <th></th>\n",
       "      <th></th>\n",
       "    </tr>\n",
       "  </thead>\n",
       "  <tbody>\n",
       "    <tr>\n",
       "      <th>7</th>\n",
       "      <td>5.0</td>\n",
       "      <td>4.0</td>\n",
       "      <td>0.0</td>\n",
       "      <td>0.0</td>\n",
       "      <td>0.0</td>\n",
       "      <td>0.0</td>\n",
       "      <td>0.0</td>\n",
       "      <td>0.0</td>\n",
       "      <td>0.0</td>\n",
       "      <td>0.0</td>\n",
       "      <td>...</td>\n",
       "      <td>0.0</td>\n",
       "      <td>0.0</td>\n",
       "      <td>0.0</td>\n",
       "      <td>0.0</td>\n",
       "      <td>0.0</td>\n",
       "      <td>0.0</td>\n",
       "      <td>0.0</td>\n",
       "      <td>0.0</td>\n",
       "      <td>0.0</td>\n",
       "      <td>0.0</td>\n",
       "    </tr>\n",
       "    <tr>\n",
       "      <th>79</th>\n",
       "      <td>0.0</td>\n",
       "      <td>0.0</td>\n",
       "      <td>0.0</td>\n",
       "      <td>0.0</td>\n",
       "      <td>0.0</td>\n",
       "      <td>0.0</td>\n",
       "      <td>0.0</td>\n",
       "      <td>0.0</td>\n",
       "      <td>0.0</td>\n",
       "      <td>0.0</td>\n",
       "      <td>...</td>\n",
       "      <td>0.0</td>\n",
       "      <td>0.0</td>\n",
       "      <td>0.0</td>\n",
       "      <td>0.0</td>\n",
       "      <td>0.0</td>\n",
       "      <td>0.0</td>\n",
       "      <td>0.0</td>\n",
       "      <td>0.0</td>\n",
       "      <td>0.0</td>\n",
       "      <td>0.0</td>\n",
       "    </tr>\n",
       "    <tr>\n",
       "      <th>199</th>\n",
       "      <td>0.0</td>\n",
       "      <td>0.0</td>\n",
       "      <td>0.0</td>\n",
       "      <td>0.0</td>\n",
       "      <td>0.0</td>\n",
       "      <td>0.0</td>\n",
       "      <td>0.0</td>\n",
       "      <td>0.0</td>\n",
       "      <td>0.0</td>\n",
       "      <td>4.0</td>\n",
       "      <td>...</td>\n",
       "      <td>0.0</td>\n",
       "      <td>0.0</td>\n",
       "      <td>0.0</td>\n",
       "      <td>0.0</td>\n",
       "      <td>0.0</td>\n",
       "      <td>0.0</td>\n",
       "      <td>0.0</td>\n",
       "      <td>0.0</td>\n",
       "      <td>0.0</td>\n",
       "      <td>0.0</td>\n",
       "    </tr>\n",
       "    <tr>\n",
       "      <th>481</th>\n",
       "      <td>0.0</td>\n",
       "      <td>0.0</td>\n",
       "      <td>0.0</td>\n",
       "      <td>0.0</td>\n",
       "      <td>0.0</td>\n",
       "      <td>0.0</td>\n",
       "      <td>0.0</td>\n",
       "      <td>0.0</td>\n",
       "      <td>0.0</td>\n",
       "      <td>5.0</td>\n",
       "      <td>...</td>\n",
       "      <td>0.0</td>\n",
       "      <td>0.0</td>\n",
       "      <td>0.0</td>\n",
       "      <td>0.0</td>\n",
       "      <td>0.0</td>\n",
       "      <td>0.0</td>\n",
       "      <td>0.0</td>\n",
       "      <td>0.0</td>\n",
       "      <td>0.0</td>\n",
       "      <td>0.0</td>\n",
       "    </tr>\n",
       "    <tr>\n",
       "      <th>769</th>\n",
       "      <td>0.0</td>\n",
       "      <td>0.0</td>\n",
       "      <td>0.0</td>\n",
       "      <td>0.0</td>\n",
       "      <td>0.0</td>\n",
       "      <td>0.0</td>\n",
       "      <td>0.0</td>\n",
       "      <td>0.0</td>\n",
       "      <td>0.0</td>\n",
       "      <td>0.0</td>\n",
       "      <td>...</td>\n",
       "      <td>0.0</td>\n",
       "      <td>0.0</td>\n",
       "      <td>0.0</td>\n",
       "      <td>0.0</td>\n",
       "      <td>0.0</td>\n",
       "      <td>0.0</td>\n",
       "      <td>0.0</td>\n",
       "      <td>0.0</td>\n",
       "      <td>0.0</td>\n",
       "      <td>0.0</td>\n",
       "    </tr>\n",
       "  </tbody>\n",
       "</table>\n",
       "<p>5 rows × 1821 columns</p>\n",
       "</div>"
      ],
      "text/plain": [
       "MovieID   8      28     43     48     61     64     66     92     96     \\\n",
       "UniqueID                                                                  \n",
       "7           5.0    4.0    0.0    0.0    0.0    0.0    0.0    0.0    0.0   \n",
       "79          0.0    0.0    0.0    0.0    0.0    0.0    0.0    0.0    0.0   \n",
       "199         0.0    0.0    0.0    0.0    0.0    0.0    0.0    0.0    0.0   \n",
       "481         0.0    0.0    0.0    0.0    0.0    0.0    0.0    0.0    0.0   \n",
       "769         0.0    0.0    0.0    0.0    0.0    0.0    0.0    0.0    0.0   \n",
       "\n",
       "MovieID   111    ...  17654  17660  17689  17693  17706  17725  17728  17734  \\\n",
       "UniqueID         ...                                                           \n",
       "7           0.0  ...    0.0    0.0    0.0    0.0    0.0    0.0    0.0    0.0   \n",
       "79          0.0  ...    0.0    0.0    0.0    0.0    0.0    0.0    0.0    0.0   \n",
       "199         4.0  ...    0.0    0.0    0.0    0.0    0.0    0.0    0.0    0.0   \n",
       "481         5.0  ...    0.0    0.0    0.0    0.0    0.0    0.0    0.0    0.0   \n",
       "769         0.0  ...    0.0    0.0    0.0    0.0    0.0    0.0    0.0    0.0   \n",
       "\n",
       "MovieID   17741  17742  \n",
       "UniqueID                \n",
       "7           0.0    0.0  \n",
       "79          0.0    0.0  \n",
       "199         0.0    0.0  \n",
       "481         0.0    0.0  \n",
       "769         0.0    0.0  \n",
       "\n",
       "[5 rows x 1821 columns]"
      ]
     },
     "execution_count": 22,
     "metadata": {},
     "output_type": "execute_result"
    }
   ],
   "source": [
    "movie_for_user.fillna(0, inplace= True)\n",
    "movie_for_user.head()"
   ]
  },
  {
   "cell_type": "code",
   "execution_count": 23,
   "metadata": {
    "colab": {},
    "colab_type": "code",
    "id": "sgBb6-J6DXSG",
    "outputId": "4b0c083d-e0ea-4f3b-cc27-10de8793a60d"
   },
   "outputs": [
    {
     "data": {
      "text/plain": [
       "UniqueID\n",
       "7          0.0\n",
       "79         0.0\n",
       "199        4.0\n",
       "481        0.0\n",
       "769        3.0\n",
       "          ... \n",
       "2648869    4.0\n",
       "2648885    4.0\n",
       "2649120    4.0\n",
       "2649267    0.0\n",
       "2649285    3.0\n",
       "Name: 8915, Length: 28978, dtype: float64"
      ]
     },
     "execution_count": 23,
     "metadata": {},
     "output_type": "execute_result"
    }
   ],
   "source": [
    "movie_for_user[8915]"
   ]
  },
  {
   "cell_type": "code",
   "execution_count": 24,
   "metadata": {
    "colab": {},
    "colab_type": "code",
    "id": "muzr-rq2DXSN",
    "outputId": "e1dea7b2-4733-4a9f-82fd-72207e609826"
   },
   "outputs": [
    {
     "name": "stdout",
     "output_type": "stream",
     "text": [
      "4.2384364820846905\n"
     ]
    }
   ],
   "source": [
    "user1664010= list(movie_for_user.loc[1664010])\n",
    "avg1664010= get_the_mean_value(user1664010)\n",
    "print(avg1664010)"
   ]
  },
  {
   "cell_type": "code",
   "execution_count": 25,
   "metadata": {
    "colab": {},
    "colab_type": "code",
    "id": "Fm7ofLd-DXSW",
    "outputId": "c82bf6bf-dc79-4cad-e6ad-11b60354bca8"
   },
   "outputs": [
    {
     "name": "stdout",
     "output_type": "stream",
     "text": [
      "1.225609756097561\n"
     ]
    }
   ],
   "source": [
    "user2439493= list(movie_for_user.loc[2439493])\n",
    "avg2439493= get_the_mean_value(user2439493)\n",
    "print(avg2439493)"
   ]
  },
  {
   "cell_type": "code",
   "execution_count": 26,
   "metadata": {
    "colab": {},
    "colab_type": "code",
    "id": "rsxdHAwkDXSg",
    "outputId": "b140e73b-f1a6-432e-a80a-b4b48ae39495"
   },
   "outputs": [
    {
     "name": "stdout",
     "output_type": "stream",
     "text": [
      "1.904382470119522\n"
     ]
    }
   ],
   "source": [
    "user305344= list(movie_for_user.loc[305344])\n",
    "avg305344= get_the_mean_value(user305344)\n",
    "print(avg305344)"
   ]
  },
  {
   "cell_type": "code",
   "execution_count": 27,
   "metadata": {
    "colab": {},
    "colab_type": "code",
    "id": "pIiaPugGDXSs",
    "outputId": "587d2612-df97-4a12-9b32-1e373491913f"
   },
   "outputs": [
    {
     "name": "stdout",
     "output_type": "stream",
     "text": [
      "1.8405963302752293\n"
     ]
    }
   ],
   "source": [
    "user387418 = list(movie_for_user.loc[387418])\n",
    "avg387418 = get_the_mean_value(user387418)\n",
    "print(avg387418)"
   ]
  },
  {
   "cell_type": "code",
   "execution_count": 28,
   "metadata": {
    "colab": {},
    "colab_type": "code",
    "id": "fDh8UyeYDXSv",
    "outputId": "4d001d42-f915-43ee-b775-36bef4389cce"
   },
   "outputs": [
    {
     "name": "stdout",
     "output_type": "stream",
     "text": [
      "2.970984455958549\n"
     ]
    }
   ],
   "source": [
    "user1314869 = list(movie_for_user.loc[1314869])\n",
    "avg1314869 = get_the_mean_value(user1314869)\n",
    "print(avg1314869)"
   ]
  },
  {
   "cell_type": "code",
   "execution_count": 29,
   "metadata": {
    "colab": {},
    "colab_type": "code",
    "id": "H1fToWYCDXSy",
    "outputId": "7ce903f6-1748-465a-c927-f08953736799"
   },
   "outputs": [
    {
     "name": "stdout",
     "output_type": "stream",
     "text": [
      "From these 5 users, The Average Movie Rating by user 2.4360018989071106\n"
     ]
    }
   ],
   "source": [
    "estimate_item_user = (avg1314869+avg387418+avg305344+avg2439493+avg1664010)/5\n",
    "print(\"From these 5 users, The Average Movie Rating by user\", estimate_item_user)"
   ]
  },
  {
   "cell_type": "markdown",
   "metadata": {},
   "source": [
    "#### user_for_movie rating process"
   ]
  },
  {
   "cell_type": "code",
   "execution_count": 30,
   "metadata": {
    "colab": {},
    "colab_type": "code",
    "id": "5EzoW6StDXS1",
    "outputId": "8f0669b6-f2bb-484c-8acd-1eea54d63b8e"
   },
   "outputs": [
    {
     "data": {
      "text/html": [
       "<div>\n",
       "<style scoped>\n",
       "    .dataframe tbody tr th:only-of-type {\n",
       "        vertical-align: middle;\n",
       "    }\n",
       "\n",
       "    .dataframe tbody tr th {\n",
       "        vertical-align: top;\n",
       "    }\n",
       "\n",
       "    .dataframe thead th {\n",
       "        text-align: right;\n",
       "    }\n",
       "</style>\n",
       "<table border=\"1\" class=\"dataframe\">\n",
       "  <thead>\n",
       "    <tr style=\"text-align: right;\">\n",
       "      <th>UniqueID</th>\n",
       "      <th>7</th>\n",
       "      <th>79</th>\n",
       "      <th>199</th>\n",
       "      <th>481</th>\n",
       "      <th>769</th>\n",
       "      <th>906</th>\n",
       "      <th>1310</th>\n",
       "      <th>1333</th>\n",
       "      <th>1427</th>\n",
       "      <th>1442</th>\n",
       "      <th>...</th>\n",
       "      <th>2648572</th>\n",
       "      <th>2648589</th>\n",
       "      <th>2648730</th>\n",
       "      <th>2648734</th>\n",
       "      <th>2648853</th>\n",
       "      <th>2648869</th>\n",
       "      <th>2648885</th>\n",
       "      <th>2649120</th>\n",
       "      <th>2649267</th>\n",
       "      <th>2649285</th>\n",
       "    </tr>\n",
       "    <tr>\n",
       "      <th>MovieID</th>\n",
       "      <th></th>\n",
       "      <th></th>\n",
       "      <th></th>\n",
       "      <th></th>\n",
       "      <th></th>\n",
       "      <th></th>\n",
       "      <th></th>\n",
       "      <th></th>\n",
       "      <th></th>\n",
       "      <th></th>\n",
       "      <th></th>\n",
       "      <th></th>\n",
       "      <th></th>\n",
       "      <th></th>\n",
       "      <th></th>\n",
       "      <th></th>\n",
       "      <th></th>\n",
       "      <th></th>\n",
       "      <th></th>\n",
       "      <th></th>\n",
       "      <th></th>\n",
       "    </tr>\n",
       "  </thead>\n",
       "  <tbody>\n",
       "    <tr>\n",
       "      <th>8</th>\n",
       "      <td>5.0</td>\n",
       "      <td>NaN</td>\n",
       "      <td>NaN</td>\n",
       "      <td>NaN</td>\n",
       "      <td>NaN</td>\n",
       "      <td>NaN</td>\n",
       "      <td>NaN</td>\n",
       "      <td>3.0</td>\n",
       "      <td>NaN</td>\n",
       "      <td>NaN</td>\n",
       "      <td>...</td>\n",
       "      <td>NaN</td>\n",
       "      <td>NaN</td>\n",
       "      <td>NaN</td>\n",
       "      <td>NaN</td>\n",
       "      <td>NaN</td>\n",
       "      <td>NaN</td>\n",
       "      <td>NaN</td>\n",
       "      <td>NaN</td>\n",
       "      <td>NaN</td>\n",
       "      <td>NaN</td>\n",
       "    </tr>\n",
       "    <tr>\n",
       "      <th>28</th>\n",
       "      <td>4.0</td>\n",
       "      <td>NaN</td>\n",
       "      <td>NaN</td>\n",
       "      <td>NaN</td>\n",
       "      <td>NaN</td>\n",
       "      <td>3.0</td>\n",
       "      <td>3.0</td>\n",
       "      <td>2.0</td>\n",
       "      <td>NaN</td>\n",
       "      <td>4.0</td>\n",
       "      <td>...</td>\n",
       "      <td>NaN</td>\n",
       "      <td>3.0</td>\n",
       "      <td>4.0</td>\n",
       "      <td>NaN</td>\n",
       "      <td>2.0</td>\n",
       "      <td>NaN</td>\n",
       "      <td>4.0</td>\n",
       "      <td>NaN</td>\n",
       "      <td>NaN</td>\n",
       "      <td>4.0</td>\n",
       "    </tr>\n",
       "    <tr>\n",
       "      <th>43</th>\n",
       "      <td>NaN</td>\n",
       "      <td>NaN</td>\n",
       "      <td>NaN</td>\n",
       "      <td>NaN</td>\n",
       "      <td>NaN</td>\n",
       "      <td>NaN</td>\n",
       "      <td>NaN</td>\n",
       "      <td>NaN</td>\n",
       "      <td>NaN</td>\n",
       "      <td>NaN</td>\n",
       "      <td>...</td>\n",
       "      <td>NaN</td>\n",
       "      <td>NaN</td>\n",
       "      <td>NaN</td>\n",
       "      <td>NaN</td>\n",
       "      <td>NaN</td>\n",
       "      <td>NaN</td>\n",
       "      <td>NaN</td>\n",
       "      <td>NaN</td>\n",
       "      <td>NaN</td>\n",
       "      <td>NaN</td>\n",
       "    </tr>\n",
       "    <tr>\n",
       "      <th>48</th>\n",
       "      <td>NaN</td>\n",
       "      <td>NaN</td>\n",
       "      <td>NaN</td>\n",
       "      <td>NaN</td>\n",
       "      <td>NaN</td>\n",
       "      <td>NaN</td>\n",
       "      <td>NaN</td>\n",
       "      <td>NaN</td>\n",
       "      <td>NaN</td>\n",
       "      <td>NaN</td>\n",
       "      <td>...</td>\n",
       "      <td>NaN</td>\n",
       "      <td>NaN</td>\n",
       "      <td>NaN</td>\n",
       "      <td>NaN</td>\n",
       "      <td>NaN</td>\n",
       "      <td>NaN</td>\n",
       "      <td>NaN</td>\n",
       "      <td>NaN</td>\n",
       "      <td>NaN</td>\n",
       "      <td>NaN</td>\n",
       "    </tr>\n",
       "    <tr>\n",
       "      <th>61</th>\n",
       "      <td>NaN</td>\n",
       "      <td>NaN</td>\n",
       "      <td>NaN</td>\n",
       "      <td>NaN</td>\n",
       "      <td>NaN</td>\n",
       "      <td>NaN</td>\n",
       "      <td>NaN</td>\n",
       "      <td>NaN</td>\n",
       "      <td>NaN</td>\n",
       "      <td>NaN</td>\n",
       "      <td>...</td>\n",
       "      <td>NaN</td>\n",
       "      <td>NaN</td>\n",
       "      <td>NaN</td>\n",
       "      <td>NaN</td>\n",
       "      <td>NaN</td>\n",
       "      <td>NaN</td>\n",
       "      <td>NaN</td>\n",
       "      <td>NaN</td>\n",
       "      <td>NaN</td>\n",
       "      <td>NaN</td>\n",
       "    </tr>\n",
       "  </tbody>\n",
       "</table>\n",
       "<p>5 rows × 28978 columns</p>\n",
       "</div>"
      ],
      "text/plain": [
       "UniqueID  7        79       199      481      769      906      1310     \\\n",
       "MovieID                                                                   \n",
       "8             5.0      NaN      NaN      NaN      NaN      NaN      NaN   \n",
       "28            4.0      NaN      NaN      NaN      NaN      3.0      3.0   \n",
       "43            NaN      NaN      NaN      NaN      NaN      NaN      NaN   \n",
       "48            NaN      NaN      NaN      NaN      NaN      NaN      NaN   \n",
       "61            NaN      NaN      NaN      NaN      NaN      NaN      NaN   \n",
       "\n",
       "UniqueID  1333     1427     1442     ...  2648572  2648589  2648730  2648734  \\\n",
       "MovieID                              ...                                       \n",
       "8             3.0      NaN      NaN  ...      NaN      NaN      NaN      NaN   \n",
       "28            2.0      NaN      4.0  ...      NaN      3.0      4.0      NaN   \n",
       "43            NaN      NaN      NaN  ...      NaN      NaN      NaN      NaN   \n",
       "48            NaN      NaN      NaN  ...      NaN      NaN      NaN      NaN   \n",
       "61            NaN      NaN      NaN  ...      NaN      NaN      NaN      NaN   \n",
       "\n",
       "UniqueID  2648853  2648869  2648885  2649120  2649267  2649285  \n",
       "MovieID                                                         \n",
       "8             NaN      NaN      NaN      NaN      NaN      NaN  \n",
       "28            2.0      NaN      4.0      NaN      NaN      4.0  \n",
       "43            NaN      NaN      NaN      NaN      NaN      NaN  \n",
       "48            NaN      NaN      NaN      NaN      NaN      NaN  \n",
       "61            NaN      NaN      NaN      NaN      NaN      NaN  \n",
       "\n",
       "[5 rows x 28978 columns]"
      ]
     },
     "execution_count": 30,
     "metadata": {},
     "output_type": "execute_result"
    }
   ],
   "source": [
    "user_for_movie = trainingdf.pivot_table(index='MovieID', columns='UniqueID', values='Ratings')\n",
    "user_for_movie.head()"
   ]
  },
  {
   "cell_type": "code",
   "execution_count": 31,
   "metadata": {
    "colab": {},
    "colab_type": "code",
    "id": "yR_d06Q-DXS7",
    "outputId": "04aebcc6-93b4-4318-b22d-33be7ef98060"
   },
   "outputs": [
    {
     "data": {
      "text/html": [
       "<div>\n",
       "<style scoped>\n",
       "    .dataframe tbody tr th:only-of-type {\n",
       "        vertical-align: middle;\n",
       "    }\n",
       "\n",
       "    .dataframe tbody tr th {\n",
       "        vertical-align: top;\n",
       "    }\n",
       "\n",
       "    .dataframe thead th {\n",
       "        text-align: right;\n",
       "    }\n",
       "</style>\n",
       "<table border=\"1\" class=\"dataframe\">\n",
       "  <thead>\n",
       "    <tr style=\"text-align: right;\">\n",
       "      <th>UniqueID</th>\n",
       "      <th>7</th>\n",
       "      <th>79</th>\n",
       "      <th>199</th>\n",
       "      <th>481</th>\n",
       "      <th>769</th>\n",
       "      <th>906</th>\n",
       "      <th>1310</th>\n",
       "      <th>1333</th>\n",
       "      <th>1427</th>\n",
       "      <th>1442</th>\n",
       "      <th>...</th>\n",
       "      <th>2648572</th>\n",
       "      <th>2648589</th>\n",
       "      <th>2648730</th>\n",
       "      <th>2648734</th>\n",
       "      <th>2648853</th>\n",
       "      <th>2648869</th>\n",
       "      <th>2648885</th>\n",
       "      <th>2649120</th>\n",
       "      <th>2649267</th>\n",
       "      <th>2649285</th>\n",
       "    </tr>\n",
       "    <tr>\n",
       "      <th>MovieID</th>\n",
       "      <th></th>\n",
       "      <th></th>\n",
       "      <th></th>\n",
       "      <th></th>\n",
       "      <th></th>\n",
       "      <th></th>\n",
       "      <th></th>\n",
       "      <th></th>\n",
       "      <th></th>\n",
       "      <th></th>\n",
       "      <th></th>\n",
       "      <th></th>\n",
       "      <th></th>\n",
       "      <th></th>\n",
       "      <th></th>\n",
       "      <th></th>\n",
       "      <th></th>\n",
       "      <th></th>\n",
       "      <th></th>\n",
       "      <th></th>\n",
       "      <th></th>\n",
       "    </tr>\n",
       "  </thead>\n",
       "  <tbody>\n",
       "    <tr>\n",
       "      <th>8</th>\n",
       "      <td>5.0</td>\n",
       "      <td>0.0</td>\n",
       "      <td>0.0</td>\n",
       "      <td>0.0</td>\n",
       "      <td>0.0</td>\n",
       "      <td>0.0</td>\n",
       "      <td>0.0</td>\n",
       "      <td>3.0</td>\n",
       "      <td>0.0</td>\n",
       "      <td>0.0</td>\n",
       "      <td>...</td>\n",
       "      <td>0.0</td>\n",
       "      <td>0.0</td>\n",
       "      <td>0.0</td>\n",
       "      <td>0.0</td>\n",
       "      <td>0.0</td>\n",
       "      <td>0.0</td>\n",
       "      <td>0.0</td>\n",
       "      <td>0.0</td>\n",
       "      <td>0.0</td>\n",
       "      <td>0.0</td>\n",
       "    </tr>\n",
       "    <tr>\n",
       "      <th>28</th>\n",
       "      <td>4.0</td>\n",
       "      <td>0.0</td>\n",
       "      <td>0.0</td>\n",
       "      <td>0.0</td>\n",
       "      <td>0.0</td>\n",
       "      <td>3.0</td>\n",
       "      <td>3.0</td>\n",
       "      <td>2.0</td>\n",
       "      <td>0.0</td>\n",
       "      <td>4.0</td>\n",
       "      <td>...</td>\n",
       "      <td>0.0</td>\n",
       "      <td>3.0</td>\n",
       "      <td>4.0</td>\n",
       "      <td>0.0</td>\n",
       "      <td>2.0</td>\n",
       "      <td>0.0</td>\n",
       "      <td>4.0</td>\n",
       "      <td>0.0</td>\n",
       "      <td>0.0</td>\n",
       "      <td>4.0</td>\n",
       "    </tr>\n",
       "    <tr>\n",
       "      <th>43</th>\n",
       "      <td>0.0</td>\n",
       "      <td>0.0</td>\n",
       "      <td>0.0</td>\n",
       "      <td>0.0</td>\n",
       "      <td>0.0</td>\n",
       "      <td>0.0</td>\n",
       "      <td>0.0</td>\n",
       "      <td>0.0</td>\n",
       "      <td>0.0</td>\n",
       "      <td>0.0</td>\n",
       "      <td>...</td>\n",
       "      <td>0.0</td>\n",
       "      <td>0.0</td>\n",
       "      <td>0.0</td>\n",
       "      <td>0.0</td>\n",
       "      <td>0.0</td>\n",
       "      <td>0.0</td>\n",
       "      <td>0.0</td>\n",
       "      <td>0.0</td>\n",
       "      <td>0.0</td>\n",
       "      <td>0.0</td>\n",
       "    </tr>\n",
       "    <tr>\n",
       "      <th>48</th>\n",
       "      <td>0.0</td>\n",
       "      <td>0.0</td>\n",
       "      <td>0.0</td>\n",
       "      <td>0.0</td>\n",
       "      <td>0.0</td>\n",
       "      <td>0.0</td>\n",
       "      <td>0.0</td>\n",
       "      <td>0.0</td>\n",
       "      <td>0.0</td>\n",
       "      <td>0.0</td>\n",
       "      <td>...</td>\n",
       "      <td>0.0</td>\n",
       "      <td>0.0</td>\n",
       "      <td>0.0</td>\n",
       "      <td>0.0</td>\n",
       "      <td>0.0</td>\n",
       "      <td>0.0</td>\n",
       "      <td>0.0</td>\n",
       "      <td>0.0</td>\n",
       "      <td>0.0</td>\n",
       "      <td>0.0</td>\n",
       "    </tr>\n",
       "    <tr>\n",
       "      <th>61</th>\n",
       "      <td>0.0</td>\n",
       "      <td>0.0</td>\n",
       "      <td>0.0</td>\n",
       "      <td>0.0</td>\n",
       "      <td>0.0</td>\n",
       "      <td>0.0</td>\n",
       "      <td>0.0</td>\n",
       "      <td>0.0</td>\n",
       "      <td>0.0</td>\n",
       "      <td>0.0</td>\n",
       "      <td>...</td>\n",
       "      <td>0.0</td>\n",
       "      <td>0.0</td>\n",
       "      <td>0.0</td>\n",
       "      <td>0.0</td>\n",
       "      <td>0.0</td>\n",
       "      <td>0.0</td>\n",
       "      <td>0.0</td>\n",
       "      <td>0.0</td>\n",
       "      <td>0.0</td>\n",
       "      <td>0.0</td>\n",
       "    </tr>\n",
       "  </tbody>\n",
       "</table>\n",
       "<p>5 rows × 28978 columns</p>\n",
       "</div>"
      ],
      "text/plain": [
       "UniqueID  7        79       199      481      769      906      1310     \\\n",
       "MovieID                                                                   \n",
       "8             5.0      0.0      0.0      0.0      0.0      0.0      0.0   \n",
       "28            4.0      0.0      0.0      0.0      0.0      3.0      3.0   \n",
       "43            0.0      0.0      0.0      0.0      0.0      0.0      0.0   \n",
       "48            0.0      0.0      0.0      0.0      0.0      0.0      0.0   \n",
       "61            0.0      0.0      0.0      0.0      0.0      0.0      0.0   \n",
       "\n",
       "UniqueID  1333     1427     1442     ...  2648572  2648589  2648730  2648734  \\\n",
       "MovieID                              ...                                       \n",
       "8             3.0      0.0      0.0  ...      0.0      0.0      0.0      0.0   \n",
       "28            2.0      0.0      4.0  ...      0.0      3.0      4.0      0.0   \n",
       "43            0.0      0.0      0.0  ...      0.0      0.0      0.0      0.0   \n",
       "48            0.0      0.0      0.0  ...      0.0      0.0      0.0      0.0   \n",
       "61            0.0      0.0      0.0  ...      0.0      0.0      0.0      0.0   \n",
       "\n",
       "UniqueID  2648853  2648869  2648885  2649120  2649267  2649285  \n",
       "MovieID                                                         \n",
       "8             0.0      0.0      0.0      0.0      0.0      0.0  \n",
       "28            2.0      0.0      4.0      0.0      0.0      4.0  \n",
       "43            0.0      0.0      0.0      0.0      0.0      0.0  \n",
       "48            0.0      0.0      0.0      0.0      0.0      0.0  \n",
       "61            0.0      0.0      0.0      0.0      0.0      0.0  \n",
       "\n",
       "[5 rows x 28978 columns]"
      ]
     },
     "execution_count": 31,
     "metadata": {},
     "output_type": "execute_result"
    }
   ],
   "source": [
    "user_for_movie.fillna(0, inplace= True)\n",
    "user_for_movie.head()"
   ]
  },
  {
   "cell_type": "code",
   "execution_count": 32,
   "metadata": {
    "colab": {},
    "colab_type": "code",
    "id": "u0ikchZ-DXTC",
    "outputId": "e3305958-09d9-4095-fc71-6ab28af242f9"
   },
   "outputs": [
    {
     "name": "stdout",
     "output_type": "stream",
     "text": [
      "4.071815611748076\n"
     ]
    }
   ],
   "source": [
    "movie6971 = list(user_for_movie.loc[6971])\n",
    "avg6971 = get_the_mean_value(movie6971)\n",
    "print(avg6971)"
   ]
  },
  {
   "cell_type": "code",
   "execution_count": 33,
   "metadata": {
    "colab": {},
    "colab_type": "code",
    "id": "b6bjouj2DXTG",
    "outputId": "b1eb2027-36da-48ec-bdb9-cccb48876616"
   },
   "outputs": [
    {
     "name": "stdout",
     "output_type": "stream",
     "text": [
      "4.047438894792774\n"
     ]
    }
   ],
   "source": [
    "movie4640 = list(user_for_movie.loc[4640])\n",
    "avg4640 = get_the_mean_value(movie4640)\n",
    "print(avg4640)"
   ]
  },
  {
   "cell_type": "code",
   "execution_count": 34,
   "metadata": {
    "colab": {},
    "colab_type": "code",
    "id": "URL-qOkmDXTS",
    "outputId": "507b48d6-458e-4482-9e20-75879e52159f"
   },
   "outputs": [
    {
     "name": "stdout",
     "output_type": "stream",
     "text": [
      "3.7261099495756977\n"
     ]
    }
   ],
   "source": [
    "movie6287 = list(user_for_movie.loc[6287])\n",
    "avg6287 = get_the_mean_value(movie6287)\n",
    "print(avg6287)"
   ]
  },
  {
   "cell_type": "code",
   "execution_count": 35,
   "metadata": {
    "colab": {},
    "colab_type": "code",
    "id": "1m6fb7JUDXTd",
    "outputId": "04334117-be00-418c-964c-5a46c70d0c71"
   },
   "outputs": [
    {
     "name": "stdout",
     "output_type": "stream",
     "text": [
      "4.071815611748076\n"
     ]
    }
   ],
   "source": [
    "movie9728 = list(user_for_movie.loc[9728])\n",
    "avg9728 = get_the_mean_value(movie9728)\n",
    "print(avg6971)"
   ]
  },
  {
   "cell_type": "code",
   "execution_count": 36,
   "metadata": {
    "colab": {},
    "colab_type": "code",
    "id": "XoScYZhMDXTo",
    "outputId": "29e88ac9-29c9-4714-fa82-c178def34e59"
   },
   "outputs": [
    {
     "name": "stdout",
     "output_type": "stream",
     "text": [
      "3.9663373050469826\n"
     ]
    }
   ],
   "source": [
    "movie8915 = list(user_for_movie.loc[8915])\n",
    "avg8915 = get_the_mean_value(movie8915)\n",
    "print(avg8915)"
   ]
  },
  {
   "cell_type": "code",
   "execution_count": 37,
   "metadata": {
    "colab": {},
    "colab_type": "code",
    "id": "59ECZE7aDXTv",
    "outputId": "2c4aee89-7b5a-47bd-aef5-261dc5837d10"
   },
   "outputs": [
    {
     "name": "stdout",
     "output_type": "stream",
     "text": [
      "From these 5 users, The Average User Rating 3.976703474582321\n"
     ]
    }
   ],
   "source": [
    "estimate_user_item = avg8915+avg6971+avg6287+avg4640+avg6971\n",
    "print(\"From these 5 users, The Average User Rating\", estimate_user_item/5)"
   ]
  },
  {
   "cell_type": "markdown",
   "metadata": {},
   "source": [
    "#### Which way of implementing the collaborative filtering approach is best for the given evaluation task?"
   ]
  },
  {
   "cell_type": "markdown",
   "metadata": {},
   "source": [
    "It would seem like the movie (item of interest) rated by the user is the more objective measure. The reason is that different\n",
    "users will provide different ratings. At the end, the movie rating is the average of all the users, in this case 5 users. Although one is free to disagree with the average movie ratings, this rating does give an idea of how the users view the movie.\n",
    "On the other hand, the user that rate a movie (item of interest) may be very bias depending on personal taste, likes, and preference which are all highly subjective matters."
   ]
  },
  {
   "cell_type": "markdown",
   "metadata": {},
   "source": [
    "#### Normalized Ratings"
   ]
  },
  {
   "cell_type": "code",
   "execution_count": 38,
   "metadata": {
    "colab": {},
    "colab_type": "code",
    "id": "kXJY5v0FDXUB",
    "outputId": "fadc4ffd-5e8b-433a-87c1-a2db3d10141f"
   },
   "outputs": [
    {
     "data": {
      "text/html": [
       "<div>\n",
       "<style scoped>\n",
       "    .dataframe tbody tr th:only-of-type {\n",
       "        vertical-align: middle;\n",
       "    }\n",
       "\n",
       "    .dataframe tbody tr th {\n",
       "        vertical-align: top;\n",
       "    }\n",
       "\n",
       "    .dataframe thead th {\n",
       "        text-align: right;\n",
       "    }\n",
       "</style>\n",
       "<table border=\"1\" class=\"dataframe\">\n",
       "  <thead>\n",
       "    <tr style=\"text-align: right;\">\n",
       "      <th>MovieID</th>\n",
       "      <th>8</th>\n",
       "      <th>28</th>\n",
       "      <th>43</th>\n",
       "      <th>48</th>\n",
       "      <th>61</th>\n",
       "      <th>64</th>\n",
       "      <th>66</th>\n",
       "      <th>92</th>\n",
       "      <th>96</th>\n",
       "      <th>111</th>\n",
       "      <th>...</th>\n",
       "      <th>17654</th>\n",
       "      <th>17660</th>\n",
       "      <th>17689</th>\n",
       "      <th>17693</th>\n",
       "      <th>17706</th>\n",
       "      <th>17725</th>\n",
       "      <th>17728</th>\n",
       "      <th>17734</th>\n",
       "      <th>17741</th>\n",
       "      <th>17742</th>\n",
       "    </tr>\n",
       "    <tr>\n",
       "      <th>UniqueID</th>\n",
       "      <th></th>\n",
       "      <th></th>\n",
       "      <th></th>\n",
       "      <th></th>\n",
       "      <th></th>\n",
       "      <th></th>\n",
       "      <th></th>\n",
       "      <th></th>\n",
       "      <th></th>\n",
       "      <th></th>\n",
       "      <th></th>\n",
       "      <th></th>\n",
       "      <th></th>\n",
       "      <th></th>\n",
       "      <th></th>\n",
       "      <th></th>\n",
       "      <th></th>\n",
       "      <th></th>\n",
       "      <th></th>\n",
       "      <th></th>\n",
       "      <th></th>\n",
       "    </tr>\n",
       "  </thead>\n",
       "  <tbody>\n",
       "    <tr>\n",
       "      <th>7</th>\n",
       "      <td>4.777046</td>\n",
       "      <td>3.777046</td>\n",
       "      <td>-0.222954</td>\n",
       "      <td>-0.222954</td>\n",
       "      <td>-0.222954</td>\n",
       "      <td>-0.222954</td>\n",
       "      <td>-0.222954</td>\n",
       "      <td>-0.222954</td>\n",
       "      <td>-0.222954</td>\n",
       "      <td>-0.222954</td>\n",
       "      <td>...</td>\n",
       "      <td>-0.222954</td>\n",
       "      <td>-0.222954</td>\n",
       "      <td>-0.222954</td>\n",
       "      <td>-0.222954</td>\n",
       "      <td>-0.222954</td>\n",
       "      <td>-0.222954</td>\n",
       "      <td>-0.222954</td>\n",
       "      <td>-0.222954</td>\n",
       "      <td>-0.222954</td>\n",
       "      <td>-0.222954</td>\n",
       "    </tr>\n",
       "    <tr>\n",
       "      <th>79</th>\n",
       "      <td>-0.167490</td>\n",
       "      <td>-0.167490</td>\n",
       "      <td>-0.167490</td>\n",
       "      <td>-0.167490</td>\n",
       "      <td>-0.167490</td>\n",
       "      <td>-0.167490</td>\n",
       "      <td>-0.167490</td>\n",
       "      <td>-0.167490</td>\n",
       "      <td>-0.167490</td>\n",
       "      <td>-0.167490</td>\n",
       "      <td>...</td>\n",
       "      <td>-0.167490</td>\n",
       "      <td>-0.167490</td>\n",
       "      <td>-0.167490</td>\n",
       "      <td>-0.167490</td>\n",
       "      <td>-0.167490</td>\n",
       "      <td>-0.167490</td>\n",
       "      <td>-0.167490</td>\n",
       "      <td>-0.167490</td>\n",
       "      <td>-0.167490</td>\n",
       "      <td>-0.167490</td>\n",
       "    </tr>\n",
       "    <tr>\n",
       "      <th>199</th>\n",
       "      <td>-0.153762</td>\n",
       "      <td>-0.153762</td>\n",
       "      <td>-0.153762</td>\n",
       "      <td>-0.153762</td>\n",
       "      <td>-0.153762</td>\n",
       "      <td>-0.153762</td>\n",
       "      <td>-0.153762</td>\n",
       "      <td>-0.153762</td>\n",
       "      <td>-0.153762</td>\n",
       "      <td>3.846238</td>\n",
       "      <td>...</td>\n",
       "      <td>-0.153762</td>\n",
       "      <td>-0.153762</td>\n",
       "      <td>-0.153762</td>\n",
       "      <td>-0.153762</td>\n",
       "      <td>-0.153762</td>\n",
       "      <td>-0.153762</td>\n",
       "      <td>-0.153762</td>\n",
       "      <td>-0.153762</td>\n",
       "      <td>-0.153762</td>\n",
       "      <td>-0.153762</td>\n",
       "    </tr>\n",
       "    <tr>\n",
       "      <th>481</th>\n",
       "      <td>-0.176826</td>\n",
       "      <td>-0.176826</td>\n",
       "      <td>-0.176826</td>\n",
       "      <td>-0.176826</td>\n",
       "      <td>-0.176826</td>\n",
       "      <td>-0.176826</td>\n",
       "      <td>-0.176826</td>\n",
       "      <td>-0.176826</td>\n",
       "      <td>-0.176826</td>\n",
       "      <td>4.823174</td>\n",
       "      <td>...</td>\n",
       "      <td>-0.176826</td>\n",
       "      <td>-0.176826</td>\n",
       "      <td>-0.176826</td>\n",
       "      <td>-0.176826</td>\n",
       "      <td>-0.176826</td>\n",
       "      <td>-0.176826</td>\n",
       "      <td>-0.176826</td>\n",
       "      <td>-0.176826</td>\n",
       "      <td>-0.176826</td>\n",
       "      <td>-0.176826</td>\n",
       "    </tr>\n",
       "    <tr>\n",
       "      <th>769</th>\n",
       "      <td>-0.171884</td>\n",
       "      <td>-0.171884</td>\n",
       "      <td>-0.171884</td>\n",
       "      <td>-0.171884</td>\n",
       "      <td>-0.171884</td>\n",
       "      <td>-0.171884</td>\n",
       "      <td>-0.171884</td>\n",
       "      <td>-0.171884</td>\n",
       "      <td>-0.171884</td>\n",
       "      <td>-0.171884</td>\n",
       "      <td>...</td>\n",
       "      <td>-0.171884</td>\n",
       "      <td>-0.171884</td>\n",
       "      <td>-0.171884</td>\n",
       "      <td>-0.171884</td>\n",
       "      <td>-0.171884</td>\n",
       "      <td>-0.171884</td>\n",
       "      <td>-0.171884</td>\n",
       "      <td>-0.171884</td>\n",
       "      <td>-0.171884</td>\n",
       "      <td>-0.171884</td>\n",
       "    </tr>\n",
       "  </tbody>\n",
       "</table>\n",
       "<p>5 rows × 1821 columns</p>\n",
       "</div>"
      ],
      "text/plain": [
       "MovieID      8         28        43        48        61        64     \\\n",
       "UniqueID                                                               \n",
       "7         4.777046  3.777046 -0.222954 -0.222954 -0.222954 -0.222954   \n",
       "79       -0.167490 -0.167490 -0.167490 -0.167490 -0.167490 -0.167490   \n",
       "199      -0.153762 -0.153762 -0.153762 -0.153762 -0.153762 -0.153762   \n",
       "481      -0.176826 -0.176826 -0.176826 -0.176826 -0.176826 -0.176826   \n",
       "769      -0.171884 -0.171884 -0.171884 -0.171884 -0.171884 -0.171884   \n",
       "\n",
       "MovieID      66        92        96        111    ...     17654     17660  \\\n",
       "UniqueID                                          ...                       \n",
       "7        -0.222954 -0.222954 -0.222954 -0.222954  ... -0.222954 -0.222954   \n",
       "79       -0.167490 -0.167490 -0.167490 -0.167490  ... -0.167490 -0.167490   \n",
       "199      -0.153762 -0.153762 -0.153762  3.846238  ... -0.153762 -0.153762   \n",
       "481      -0.176826 -0.176826 -0.176826  4.823174  ... -0.176826 -0.176826   \n",
       "769      -0.171884 -0.171884 -0.171884 -0.171884  ... -0.171884 -0.171884   \n",
       "\n",
       "MovieID      17689     17693     17706     17725     17728     17734  \\\n",
       "UniqueID                                                               \n",
       "7        -0.222954 -0.222954 -0.222954 -0.222954 -0.222954 -0.222954   \n",
       "79       -0.167490 -0.167490 -0.167490 -0.167490 -0.167490 -0.167490   \n",
       "199      -0.153762 -0.153762 -0.153762 -0.153762 -0.153762 -0.153762   \n",
       "481      -0.176826 -0.176826 -0.176826 -0.176826 -0.176826 -0.176826   \n",
       "769      -0.171884 -0.171884 -0.171884 -0.171884 -0.171884 -0.171884   \n",
       "\n",
       "MovieID      17741     17742  \n",
       "UniqueID                      \n",
       "7        -0.222954 -0.222954  \n",
       "79       -0.167490 -0.167490  \n",
       "199      -0.153762 -0.153762  \n",
       "481      -0.176826 -0.176826  \n",
       "769      -0.171884 -0.171884  \n",
       "\n",
       "[5 rows x 1821 columns]"
      ]
     },
     "execution_count": 38,
     "metadata": {},
     "output_type": "execute_result"
    }
   ],
   "source": [
    "matrix_normalization =  movie_for_user - np.asarray([(np.mean(movie_for_user, 1))]).T\n",
    "matrix_normalization.head()"
   ]
  },
  {
   "cell_type": "code",
   "execution_count": null,
   "metadata": {},
   "outputs": [],
   "source": []
  },
  {
   "cell_type": "markdown",
   "metadata": {
    "colab_type": "text",
    "id": "OnKd4n68DXUL"
   },
   "source": [
    "## Problem 3: Collaborative Filtering Implementation"
   ]
  },
  {
   "cell_type": "markdown",
   "metadata": {},
   "source": [
    "#### Getting the data ready..."
   ]
  },
  {
   "cell_type": "code",
   "execution_count": 39,
   "metadata": {
    "colab": {},
    "colab_type": "code",
    "id": "9QzmdHrRDXUQ"
   },
   "outputs": [],
   "source": [
    "trainingtable, testtable = train_test_split(trainingdf, test_size = 0.25)\n",
    "trainarray = trainingtable.pivot_table(index = 'UniqueID', columns = 'MovieID', values = 'Ratings')\n",
    "trainarray.fillna(0, inplace = True)\n",
    "testarray = testtable.pivot_table(index = 'UniqueID', columns = 'MovieID', values = 'Ratings')\n",
    "testarray.fillna(0, inplace = True)\n",
    "traindimension = trainarray.to_numpy()\n",
    "ratings_of_the_users_average = np.mean(traindimension, axis = 1)\n",
    "train_reshape = traindimension - ratings_of_the_users_average.reshape(-1, 1)"
   ]
  },
  {
   "cell_type": "markdown",
   "metadata": {},
   "source": [
    "#### SVD Stage (stands for Singular Value Decomposition)"
   ]
  },
  {
   "cell_type": "code",
   "execution_count": 40,
   "metadata": {
    "colab": {},
    "colab_type": "code",
    "id": "W9CEbA7iDXUy"
   },
   "outputs": [],
   "source": [
    "U, S, V_Transp = svds(train_reshape)\n",
    "S = np.diag(S)\n",
    "users_totality = np.dot(np.dot(U, S), V_Transp) + ratings_of_the_users_average.reshape(-1, 1)"
   ]
  },
  {
   "cell_type": "code",
   "execution_count": 41,
   "metadata": {
    "colab": {},
    "colab_type": "code",
    "id": "gTotgUlhDXVF",
    "outputId": "bf47dbb9-f4b5-40af-b635-23be97b183ca"
   },
   "outputs": [
    {
     "data": {
      "text/html": [
       "<div>\n",
       "<style scoped>\n",
       "    .dataframe tbody tr th:only-of-type {\n",
       "        vertical-align: middle;\n",
       "    }\n",
       "\n",
       "    .dataframe tbody tr th {\n",
       "        vertical-align: top;\n",
       "    }\n",
       "\n",
       "    .dataframe thead th {\n",
       "        text-align: right;\n",
       "    }\n",
       "</style>\n",
       "<table border=\"1\" class=\"dataframe\">\n",
       "  <thead>\n",
       "    <tr style=\"text-align: right;\">\n",
       "      <th>MovieID</th>\n",
       "      <th>8</th>\n",
       "      <th>28</th>\n",
       "      <th>43</th>\n",
       "      <th>48</th>\n",
       "      <th>61</th>\n",
       "      <th>64</th>\n",
       "      <th>66</th>\n",
       "      <th>92</th>\n",
       "      <th>96</th>\n",
       "      <th>111</th>\n",
       "      <th>...</th>\n",
       "      <th>17654</th>\n",
       "      <th>17660</th>\n",
       "      <th>17689</th>\n",
       "      <th>17693</th>\n",
       "      <th>17706</th>\n",
       "      <th>17725</th>\n",
       "      <th>17728</th>\n",
       "      <th>17734</th>\n",
       "      <th>17741</th>\n",
       "      <th>17742</th>\n",
       "    </tr>\n",
       "    <tr>\n",
       "      <th>UniqueID</th>\n",
       "      <th></th>\n",
       "      <th></th>\n",
       "      <th></th>\n",
       "      <th></th>\n",
       "      <th></th>\n",
       "      <th></th>\n",
       "      <th></th>\n",
       "      <th></th>\n",
       "      <th></th>\n",
       "      <th></th>\n",
       "      <th></th>\n",
       "      <th></th>\n",
       "      <th></th>\n",
       "      <th></th>\n",
       "      <th></th>\n",
       "      <th></th>\n",
       "      <th></th>\n",
       "      <th></th>\n",
       "      <th></th>\n",
       "      <th></th>\n",
       "      <th></th>\n",
       "    </tr>\n",
       "  </thead>\n",
       "  <tbody>\n",
       "    <tr>\n",
       "      <th>2648869</th>\n",
       "      <td>0.522585</td>\n",
       "      <td>0.231504</td>\n",
       "      <td>-0.003525</td>\n",
       "      <td>-0.086089</td>\n",
       "      <td>0.002356</td>\n",
       "      <td>-0.002428</td>\n",
       "      <td>-0.006135</td>\n",
       "      <td>-0.006420</td>\n",
       "      <td>-0.002542</td>\n",
       "      <td>0.476015</td>\n",
       "      <td>...</td>\n",
       "      <td>-0.131968</td>\n",
       "      <td>0.003044</td>\n",
       "      <td>-0.001055</td>\n",
       "      <td>-0.201421</td>\n",
       "      <td>-0.007765</td>\n",
       "      <td>0.301805</td>\n",
       "      <td>0.011801</td>\n",
       "      <td>0.005803</td>\n",
       "      <td>0.023196</td>\n",
       "      <td>0.021788</td>\n",
       "    </tr>\n",
       "    <tr>\n",
       "      <th>2648885</th>\n",
       "      <td>0.277050</td>\n",
       "      <td>1.683538</td>\n",
       "      <td>0.021706</td>\n",
       "      <td>0.452267</td>\n",
       "      <td>0.013704</td>\n",
       "      <td>0.013908</td>\n",
       "      <td>0.021380</td>\n",
       "      <td>0.028802</td>\n",
       "      <td>0.033697</td>\n",
       "      <td>0.402557</td>\n",
       "      <td>...</td>\n",
       "      <td>0.221535</td>\n",
       "      <td>0.012956</td>\n",
       "      <td>0.015952</td>\n",
       "      <td>0.309657</td>\n",
       "      <td>0.045311</td>\n",
       "      <td>0.275144</td>\n",
       "      <td>0.018462</td>\n",
       "      <td>0.014191</td>\n",
       "      <td>0.214611</td>\n",
       "      <td>0.011063</td>\n",
       "    </tr>\n",
       "    <tr>\n",
       "      <th>2649120</th>\n",
       "      <td>0.349837</td>\n",
       "      <td>0.050659</td>\n",
       "      <td>-0.018566</td>\n",
       "      <td>0.155100</td>\n",
       "      <td>-0.023863</td>\n",
       "      <td>-0.024746</td>\n",
       "      <td>-0.020364</td>\n",
       "      <td>-0.022851</td>\n",
       "      <td>-0.008233</td>\n",
       "      <td>-0.401182</td>\n",
       "      <td>...</td>\n",
       "      <td>-0.083384</td>\n",
       "      <td>-0.024414</td>\n",
       "      <td>-0.023578</td>\n",
       "      <td>-0.092587</td>\n",
       "      <td>-0.008872</td>\n",
       "      <td>0.224830</td>\n",
       "      <td>-0.012888</td>\n",
       "      <td>-0.018680</td>\n",
       "      <td>0.084731</td>\n",
       "      <td>-0.014136</td>\n",
       "    </tr>\n",
       "    <tr>\n",
       "      <th>2649267</th>\n",
       "      <td>0.229961</td>\n",
       "      <td>1.397211</td>\n",
       "      <td>0.014349</td>\n",
       "      <td>-0.008613</td>\n",
       "      <td>0.021715</td>\n",
       "      <td>0.018866</td>\n",
       "      <td>0.013281</td>\n",
       "      <td>0.020276</td>\n",
       "      <td>0.010140</td>\n",
       "      <td>1.402492</td>\n",
       "      <td>...</td>\n",
       "      <td>0.148803</td>\n",
       "      <td>0.021408</td>\n",
       "      <td>0.018165</td>\n",
       "      <td>0.124554</td>\n",
       "      <td>0.013146</td>\n",
       "      <td>0.130964</td>\n",
       "      <td>0.018434</td>\n",
       "      <td>0.017598</td>\n",
       "      <td>0.062568</td>\n",
       "      <td>0.030099</td>\n",
       "    </tr>\n",
       "    <tr>\n",
       "      <th>2649285</th>\n",
       "      <td>0.156677</td>\n",
       "      <td>2.211554</td>\n",
       "      <td>-0.038692</td>\n",
       "      <td>0.146915</td>\n",
       "      <td>-0.035583</td>\n",
       "      <td>-0.038390</td>\n",
       "      <td>-0.038361</td>\n",
       "      <td>-0.036402</td>\n",
       "      <td>-0.033038</td>\n",
       "      <td>1.081855</td>\n",
       "      <td>...</td>\n",
       "      <td>0.300799</td>\n",
       "      <td>-0.038200</td>\n",
       "      <td>-0.040830</td>\n",
       "      <td>0.360806</td>\n",
       "      <td>-0.033768</td>\n",
       "      <td>-0.004399</td>\n",
       "      <td>-0.041461</td>\n",
       "      <td>-0.040503</td>\n",
       "      <td>0.066474</td>\n",
       "      <td>-0.012897</td>\n",
       "    </tr>\n",
       "  </tbody>\n",
       "</table>\n",
       "<p>5 rows × 1821 columns</p>\n",
       "</div>"
      ],
      "text/plain": [
       "MovieID      8         28        43        48        61        64     \\\n",
       "UniqueID                                                               \n",
       "2648869   0.522585  0.231504 -0.003525 -0.086089  0.002356 -0.002428   \n",
       "2648885   0.277050  1.683538  0.021706  0.452267  0.013704  0.013908   \n",
       "2649120   0.349837  0.050659 -0.018566  0.155100 -0.023863 -0.024746   \n",
       "2649267   0.229961  1.397211  0.014349 -0.008613  0.021715  0.018866   \n",
       "2649285   0.156677  2.211554 -0.038692  0.146915 -0.035583 -0.038390   \n",
       "\n",
       "MovieID      66        92        96        111    ...     17654     17660  \\\n",
       "UniqueID                                          ...                       \n",
       "2648869  -0.006135 -0.006420 -0.002542  0.476015  ... -0.131968  0.003044   \n",
       "2648885   0.021380  0.028802  0.033697  0.402557  ...  0.221535  0.012956   \n",
       "2649120  -0.020364 -0.022851 -0.008233 -0.401182  ... -0.083384 -0.024414   \n",
       "2649267   0.013281  0.020276  0.010140  1.402492  ...  0.148803  0.021408   \n",
       "2649285  -0.038361 -0.036402 -0.033038  1.081855  ...  0.300799 -0.038200   \n",
       "\n",
       "MovieID      17689     17693     17706     17725     17728     17734  \\\n",
       "UniqueID                                                               \n",
       "2648869  -0.001055 -0.201421 -0.007765  0.301805  0.011801  0.005803   \n",
       "2648885   0.015952  0.309657  0.045311  0.275144  0.018462  0.014191   \n",
       "2649120  -0.023578 -0.092587 -0.008872  0.224830 -0.012888 -0.018680   \n",
       "2649267   0.018165  0.124554  0.013146  0.130964  0.018434  0.017598   \n",
       "2649285  -0.040830  0.360806 -0.033768 -0.004399 -0.041461 -0.040503   \n",
       "\n",
       "MovieID      17741     17742  \n",
       "UniqueID                      \n",
       "2648869   0.023196  0.021788  \n",
       "2648885   0.214611  0.011063  \n",
       "2649120   0.084731 -0.014136  \n",
       "2649267   0.062568  0.030099  \n",
       "2649285   0.066474 -0.012897  \n",
       "\n",
       "[5 rows x 1821 columns]"
      ]
     },
     "execution_count": 41,
     "metadata": {},
     "output_type": "execute_result"
    }
   ],
   "source": [
    "forecastings = pd.DataFrame(users_totality, columns = trainarray.columns, \n",
    "                            index= trainarray.index)\n",
    "forecastings.tail()"
   ]
  },
  {
   "cell_type": "code",
   "execution_count": 42,
   "metadata": {
    "colab": {},
    "colab_type": "code",
    "id": "w8HHQ2q8DXVS",
    "outputId": "5dbe18fd-5ab8-401e-c272-a2b118b51c70"
   },
   "outputs": [
    {
     "name": "stdout",
     "output_type": "stream",
     "text": [
      "   MovieID  ReleaseYear                         Title\n",
      "0      1.0       2003.0               Dinosaur Planet\n",
      "1      2.0       2004.0    Isle of Man TT 2004 Review\n",
      "2      3.0       1997.0                     Character\n",
      "3      4.0       1994.0  Paula Abdul's Get Up & Dance\n",
      "4      5.0       2004.0      The Rise and Fall of ECW\n"
     ]
    }
   ],
   "source": [
    "moviedf = moviedata.toPandas()\n",
    "print(moviedf.head())"
   ]
  },
  {
   "cell_type": "code",
   "execution_count": 43,
   "metadata": {
    "colab": {},
    "colab_type": "code",
    "id": "zbKYfLw4DXVU"
   },
   "outputs": [],
   "source": [
    "#Very Important and Needed Movie Recommendation Function\n",
    "def movie_testimony(expected, UniqueIdentifier, moviedata, ratingsinitial, \n",
    "                     recomm_count = 10):\n",
    "    startplace = UniqueIdentifier\n",
    "    predictionsordered = expected.loc[startplace].sort_values(ascending=False) # UserID starts at 1\n",
    "    \n",
    "    customers = ratingsinitial[ratingsinitial.UniqueID == (UniqueIdentifier)]\n",
    "    consumers = (customers.merge(moviedata, how = 'left', left_on = 'MovieID', right_on = 'MovieID').\n",
    "                     sort_values(['Ratings'], ascending=False)\n",
    "                 )\n",
    "\n",
    "    print ('User {0} has already rated {1} movies.'.format(UniqueIdentifier, consumers.shape[0]))\n",
    "    print ('Recommending highest {0} predicted ratings movies not already rated.'.format(recomm_count))\n",
    "    \n",
    "    # Recommend the highest predicted rating movies that the user hasn't seen yet.\n",
    "    testimony = (moviedata[~moviedata['MovieID'].isin(consumers['MovieID'])].\n",
    "         merge(pd.DataFrame(predictionsordered).reset_index(), how = 'left',left_on = 'MovieID',right_on = 'MovieID').\n",
    "         rename(columns = {startplace: 'Predictions'}).\n",
    "         sort_values('Predictions', ascending = False).iloc[:recomm_count, :-1])\n",
    "    return consumers, testimony"
   ]
  },
  {
   "cell_type": "code",
   "execution_count": 44,
   "metadata": {
    "colab": {},
    "colab_type": "code",
    "id": "gfJMu3eSDXVW",
    "outputId": "f112499f-ae53-40b0-f27f-cbe40caee5df"
   },
   "outputs": [
    {
     "name": "stdout",
     "output_type": "stream",
     "text": [
      "User 738747 has already rated 125 movies.\n",
      "Recommending highest 10 predicted ratings movies not already rated.\n"
     ]
    }
   ],
   "source": [
    "#Calling the defined function above\n",
    "prior_rating, predictions = movie_testimony(forecastings, 738747, moviedf, trainingdf, 10)"
   ]
  },
  {
   "cell_type": "code",
   "execution_count": 45,
   "metadata": {
    "colab": {},
    "colab_type": "code",
    "id": "tf21KjtqDXVh",
    "outputId": "4c740e28-a3e7-475e-bea8-cc95f2370dd6"
   },
   "outputs": [
    {
     "name": "stdout",
     "output_type": "stream",
     "text": [
      "The Training Data Mean Absolute error is  0.6537363004987473\n"
     ]
    }
   ],
   "source": [
    "#Training Data Mean Absolute error\n",
    "train_MAE = math.sqrt(mean_squared_error(users_totality, train_reshape))\n",
    "print ('The Training Data Mean Absolute error is ', train_MAE)"
   ]
  },
  {
   "cell_type": "markdown",
   "metadata": {},
   "source": [
    "Lets try predicting first for our smaller test set."
   ]
  },
  {
   "cell_type": "code",
   "execution_count": 46,
   "metadata": {
    "colab": {},
    "colab_type": "code",
    "id": "3wncAbJ_DXVj",
    "outputId": "cf610f12-bd7e-445e-aa19-229588de9b14"
   },
   "outputs": [],
   "source": [
    "tested = testarray.to_numpy()\n",
    "user_ratings_mean_test = np.mean(tested, axis = 1)\n",
    "tested_demean = tested - user_ratings_mean_test.reshape(-1, 1)"
   ]
  },
  {
   "cell_type": "code",
   "execution_count": 47,
   "metadata": {
    "colab": {},
    "colab_type": "code",
    "id": "HbUQmOcoDXVq"
   },
   "outputs": [
    {
     "data": {
      "text/plain": [
       "0.4239759839684019"
      ]
     },
     "execution_count": 47,
     "metadata": {},
     "output_type": "execute_result"
    }
   ],
   "source": [
    "U, S, V_Transp = svds(tested_demean)\n",
    "S = np.diag(S)\n",
    "all_user_predicted_ratings = np.dot(np.dot(U, S), V_Transp) + user_ratings_mean_test.reshape(-1, 1)\n",
    "math.sqrt(mean_squared_error(all_user_predicted_ratings,tested_demean))"
   ]
  },
  {
   "cell_type": "code",
   "execution_count": null,
   "metadata": {
    "colab": {},
    "colab_type": "code",
    "id": "lgDxAv1XDXVx"
   },
   "outputs": [],
   "source": []
  },
  {
   "cell_type": "code",
   "execution_count": 48,
   "metadata": {
    "colab": {},
    "colab_type": "code",
    "id": "W8_mIKqjDXWI",
    "outputId": "cae3d118-906a-4208-e85a-d8129360b6af"
   },
   "outputs": [
    {
     "data": {
      "text/html": [
       "<div>\n",
       "<style scoped>\n",
       "    .dataframe tbody tr th:only-of-type {\n",
       "        vertical-align: middle;\n",
       "    }\n",
       "\n",
       "    .dataframe tbody tr th {\n",
       "        vertical-align: top;\n",
       "    }\n",
       "\n",
       "    .dataframe thead th {\n",
       "        text-align: right;\n",
       "    }\n",
       "</style>\n",
       "<table border=\"1\" class=\"dataframe\">\n",
       "  <thead>\n",
       "    <tr style=\"text-align: right;\">\n",
       "      <th>MovieID</th>\n",
       "      <th>8</th>\n",
       "      <th>28</th>\n",
       "      <th>43</th>\n",
       "      <th>48</th>\n",
       "      <th>61</th>\n",
       "      <th>64</th>\n",
       "      <th>66</th>\n",
       "      <th>92</th>\n",
       "      <th>96</th>\n",
       "      <th>111</th>\n",
       "      <th>...</th>\n",
       "      <th>17653</th>\n",
       "      <th>17654</th>\n",
       "      <th>17689</th>\n",
       "      <th>17693</th>\n",
       "      <th>17706</th>\n",
       "      <th>17725</th>\n",
       "      <th>17728</th>\n",
       "      <th>17734</th>\n",
       "      <th>17741</th>\n",
       "      <th>17742</th>\n",
       "    </tr>\n",
       "    <tr>\n",
       "      <th>UniqueID</th>\n",
       "      <th></th>\n",
       "      <th></th>\n",
       "      <th></th>\n",
       "      <th></th>\n",
       "      <th></th>\n",
       "      <th></th>\n",
       "      <th></th>\n",
       "      <th></th>\n",
       "      <th></th>\n",
       "      <th></th>\n",
       "      <th></th>\n",
       "      <th></th>\n",
       "      <th></th>\n",
       "      <th></th>\n",
       "      <th></th>\n",
       "      <th></th>\n",
       "      <th></th>\n",
       "      <th></th>\n",
       "      <th></th>\n",
       "      <th></th>\n",
       "      <th></th>\n",
       "    </tr>\n",
       "  </thead>\n",
       "  <tbody>\n",
       "    <tr>\n",
       "      <th>7</th>\n",
       "      <td>0.0</td>\n",
       "      <td>0.0</td>\n",
       "      <td>0.0</td>\n",
       "      <td>0.0</td>\n",
       "      <td>0.0</td>\n",
       "      <td>0.0</td>\n",
       "      <td>0.0</td>\n",
       "      <td>0.0</td>\n",
       "      <td>0.0</td>\n",
       "      <td>0.0</td>\n",
       "      <td>...</td>\n",
       "      <td>0.0</td>\n",
       "      <td>0.0</td>\n",
       "      <td>0.0</td>\n",
       "      <td>0.0</td>\n",
       "      <td>0.0</td>\n",
       "      <td>0.0</td>\n",
       "      <td>0.0</td>\n",
       "      <td>0.0</td>\n",
       "      <td>0.0</td>\n",
       "      <td>0.0</td>\n",
       "    </tr>\n",
       "    <tr>\n",
       "      <th>79</th>\n",
       "      <td>0.0</td>\n",
       "      <td>0.0</td>\n",
       "      <td>0.0</td>\n",
       "      <td>0.0</td>\n",
       "      <td>0.0</td>\n",
       "      <td>0.0</td>\n",
       "      <td>0.0</td>\n",
       "      <td>0.0</td>\n",
       "      <td>0.0</td>\n",
       "      <td>0.0</td>\n",
       "      <td>...</td>\n",
       "      <td>0.0</td>\n",
       "      <td>0.0</td>\n",
       "      <td>0.0</td>\n",
       "      <td>0.0</td>\n",
       "      <td>0.0</td>\n",
       "      <td>0.0</td>\n",
       "      <td>0.0</td>\n",
       "      <td>0.0</td>\n",
       "      <td>0.0</td>\n",
       "      <td>0.0</td>\n",
       "    </tr>\n",
       "    <tr>\n",
       "      <th>199</th>\n",
       "      <td>0.0</td>\n",
       "      <td>0.0</td>\n",
       "      <td>0.0</td>\n",
       "      <td>0.0</td>\n",
       "      <td>0.0</td>\n",
       "      <td>0.0</td>\n",
       "      <td>0.0</td>\n",
       "      <td>0.0</td>\n",
       "      <td>0.0</td>\n",
       "      <td>0.0</td>\n",
       "      <td>...</td>\n",
       "      <td>0.0</td>\n",
       "      <td>0.0</td>\n",
       "      <td>0.0</td>\n",
       "      <td>0.0</td>\n",
       "      <td>0.0</td>\n",
       "      <td>0.0</td>\n",
       "      <td>0.0</td>\n",
       "      <td>0.0</td>\n",
       "      <td>0.0</td>\n",
       "      <td>0.0</td>\n",
       "    </tr>\n",
       "    <tr>\n",
       "      <th>481</th>\n",
       "      <td>0.0</td>\n",
       "      <td>0.0</td>\n",
       "      <td>0.0</td>\n",
       "      <td>0.0</td>\n",
       "      <td>0.0</td>\n",
       "      <td>0.0</td>\n",
       "      <td>0.0</td>\n",
       "      <td>0.0</td>\n",
       "      <td>0.0</td>\n",
       "      <td>0.0</td>\n",
       "      <td>...</td>\n",
       "      <td>0.0</td>\n",
       "      <td>0.0</td>\n",
       "      <td>0.0</td>\n",
       "      <td>0.0</td>\n",
       "      <td>0.0</td>\n",
       "      <td>0.0</td>\n",
       "      <td>0.0</td>\n",
       "      <td>0.0</td>\n",
       "      <td>0.0</td>\n",
       "      <td>0.0</td>\n",
       "    </tr>\n",
       "    <tr>\n",
       "      <th>769</th>\n",
       "      <td>0.0</td>\n",
       "      <td>0.0</td>\n",
       "      <td>0.0</td>\n",
       "      <td>0.0</td>\n",
       "      <td>0.0</td>\n",
       "      <td>0.0</td>\n",
       "      <td>0.0</td>\n",
       "      <td>0.0</td>\n",
       "      <td>0.0</td>\n",
       "      <td>0.0</td>\n",
       "      <td>...</td>\n",
       "      <td>0.0</td>\n",
       "      <td>0.0</td>\n",
       "      <td>0.0</td>\n",
       "      <td>0.0</td>\n",
       "      <td>0.0</td>\n",
       "      <td>0.0</td>\n",
       "      <td>0.0</td>\n",
       "      <td>0.0</td>\n",
       "      <td>0.0</td>\n",
       "      <td>0.0</td>\n",
       "    </tr>\n",
       "  </tbody>\n",
       "</table>\n",
       "<p>5 rows × 1701 columns</p>\n",
       "</div>"
      ],
      "text/plain": [
       "MovieID   8      28     43     48     61     64     66     92     96     \\\n",
       "UniqueID                                                                  \n",
       "7           0.0    0.0    0.0    0.0    0.0    0.0    0.0    0.0    0.0   \n",
       "79          0.0    0.0    0.0    0.0    0.0    0.0    0.0    0.0    0.0   \n",
       "199         0.0    0.0    0.0    0.0    0.0    0.0    0.0    0.0    0.0   \n",
       "481         0.0    0.0    0.0    0.0    0.0    0.0    0.0    0.0    0.0   \n",
       "769         0.0    0.0    0.0    0.0    0.0    0.0    0.0    0.0    0.0   \n",
       "\n",
       "MovieID   111    ...  17653  17654  17689  17693  17706  17725  17728  17734  \\\n",
       "UniqueID         ...                                                           \n",
       "7           0.0  ...    0.0    0.0    0.0    0.0    0.0    0.0    0.0    0.0   \n",
       "79          0.0  ...    0.0    0.0    0.0    0.0    0.0    0.0    0.0    0.0   \n",
       "199         0.0  ...    0.0    0.0    0.0    0.0    0.0    0.0    0.0    0.0   \n",
       "481         0.0  ...    0.0    0.0    0.0    0.0    0.0    0.0    0.0    0.0   \n",
       "769         0.0  ...    0.0    0.0    0.0    0.0    0.0    0.0    0.0    0.0   \n",
       "\n",
       "MovieID   17741  17742  \n",
       "UniqueID                \n",
       "7           0.0    0.0  \n",
       "79          0.0    0.0  \n",
       "199         0.0    0.0  \n",
       "481         0.0    0.0  \n",
       "769         0.0    0.0  \n",
       "\n",
       "[5 rows x 1701 columns]"
      ]
     },
     "execution_count": 48,
     "metadata": {},
     "output_type": "execute_result"
    }
   ],
   "source": [
    "usertest_movie_rating = testdf.pivot_table(index='UniqueID', columns='MovieID', values='Ratings')\n",
    "usertest_movie_rating.fillna(0, inplace= True)\n",
    "usertest_movie_rating.head()"
   ]
  },
  {
   "cell_type": "code",
   "execution_count": 49,
   "metadata": {
    "colab": {},
    "colab_type": "code",
    "id": "MEIt7cAFDXWM",
    "outputId": "d2532904-3517-46d7-8863-ee7c655401a1"
   },
   "outputs": [],
   "source": [
    "finaltest = usertest_movie_rating.to_numpy()\n",
    "fusertest_ratings_mean = np.mean(finaltest, axis = 1)\n",
    "ftest_demean = finaltest - fusertest_ratings_mean.reshape(-1, 1)"
   ]
  },
  {
   "cell_type": "code",
   "execution_count": 50,
   "metadata": {
    "colab": {},
    "colab_type": "code",
    "id": "gJ9nd3L0DXWT"
   },
   "outputs": [],
   "source": [
    "U, S, V_Transp = svds(ftest_demean)\n",
    "S = np.diag(S)\n",
    "final_all_user_predicted_ratings = np.dot(np.dot(U, S), V_Transp) + fusertest_ratings_mean.reshape(-1, 1)"
   ]
  },
  {
   "cell_type": "markdown",
   "metadata": {
    "colab_type": "text",
    "id": "xTmwLmR3DXWY"
   },
   "source": [
    "Evaluate the approach for our overall testing data."
   ]
  },
  {
   "cell_type": "code",
   "execution_count": 51,
   "metadata": {
    "colab": {},
    "colab_type": "code",
    "id": "b6isGX8gDXWY",
    "outputId": "12eb36c7-ec85-4358-da1a-3d208151597d"
   },
   "outputs": [
    {
     "data": {
      "text/plain": [
       "0.16349229229029635"
      ]
     },
     "execution_count": 51,
     "metadata": {},
     "output_type": "execute_result"
    }
   ],
   "source": [
    "#RMSE of test data\n",
    "math.sqrt(mean_squared_error(final_all_user_predicted_ratings,ftest_demean))"
   ]
  },
  {
   "cell_type": "code",
   "execution_count": 52,
   "metadata": {
    "colab": {},
    "colab_type": "code",
    "id": "jDNU3R7vDXWc",
    "outputId": "84c7eb54-3307-4c29-f6f1-37b36370a72c"
   },
   "outputs": [
    {
     "data": {
      "text/plain": [
       "0.02178685635406887"
      ]
     },
     "execution_count": 52,
     "metadata": {},
     "output_type": "execute_result"
    }
   ],
   "source": [
    "#MAE of test data\n",
    "mean_absolute_error(ftest_demean,final_all_user_predicted_ratings)"
   ]
  }
 ],
 "metadata": {
  "colab": {
   "name": "My Netflixfinal(3).ipynb",
   "provenance": []
  },
  "kernelspec": {
   "display_name": "Python 3 (ipykernel)",
   "language": "python",
   "name": "python3"
  },
  "language_info": {
   "codemirror_mode": {
    "name": "ipython",
    "version": 3
   },
   "file_extension": ".py",
   "mimetype": "text/x-python",
   "name": "python",
   "nbconvert_exporter": "python",
   "pygments_lexer": "ipython3",
   "version": "3.7.10"
  }
 },
 "nbformat": 4,
 "nbformat_minor": 1
}
